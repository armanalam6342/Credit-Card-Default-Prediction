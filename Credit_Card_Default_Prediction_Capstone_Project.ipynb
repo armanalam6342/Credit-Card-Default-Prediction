{
  "nbformat": 4,
  "nbformat_minor": 0,
  "metadata": {
    "kernelspec": {
      "display_name": "Python 3",
      "language": "python",
      "name": "python3"
    },
    "language_info": {
      "codemirror_mode": {
        "name": "ipython",
        "version": 3
      },
      "file_extension": ".py",
      "mimetype": "text/x-python",
      "name": "python",
      "nbconvert_exporter": "python",
      "pygments_lexer": "ipython3",
      "version": "3.6.6"
    },
    "colab": {
      "name": "Credit Card Default Prediction - Capstone Project.ipynb",
      "provenance": [],
      "collapsed_sections": [],
      "include_colab_link": true
    }
  },
  "cells": [
    {
      "cell_type": "markdown",
      "metadata": {
        "id": "view-in-github",
        "colab_type": "text"
      },
      "source": [
        "<a href=\"https://colab.research.google.com/github/armanalam6342/Credit-Card-Default-Prediction/blob/main/Credit_Card_Default_Prediction_Capstone_Project.ipynb\" target=\"_parent\"><img src=\"https://colab.research.google.com/assets/colab-badge.svg\" alt=\"Open In Colab\"/></a>"
      ]
    },
    {
      "cell_type": "markdown",
      "metadata": {
        "id": "tOGC-qoyhJeX"
      },
      "source": [
        "# <b><u> Project Title : Predicting whether a customer will default on his/her credit card </u></b>"
      ]
    },
    {
      "cell_type": "code",
      "metadata": {
        "colab": {
          "base_uri": "https://localhost:8080/"
        },
        "id": "gK3YpRHNyaMa",
        "outputId": "c0d1ced6-c468-43df-d9ad-12b0b1a1da6c"
      },
      "source": [
        "from google.colab import drive\n",
        "drive.mount('/content/drive')"
      ],
      "execution_count": null,
      "outputs": [
        {
          "output_type": "stream",
          "name": "stdout",
          "text": [
            "Drive already mounted at /content/drive; to attempt to forcibly remount, call drive.mount(\"/content/drive\", force_remount=True).\n"
          ]
        }
      ]
    },
    {
      "cell_type": "markdown",
      "metadata": {
        "id": "Y06xIdG26kRF"
      },
      "source": [
        "## <b> Problem Description </b>\n",
        "\n",
        "### This project is aimed at predicting the case of customers default payments in Taiwan. From the perspective of risk management, the result of predictive accuracy of the estimated probability of default will be more valuable than the binary result of classification - credible or not credible clients. We can use the [K-S chart](https://www.listendata.com/2019/07/KS-Statistics-Python.html) to evaluate which customers will default on their credit card payments\n"
      ]
    },
    {
      "cell_type": "markdown",
      "metadata": {
        "id": "AlLxAtlziMbP"
      },
      "source": [
        "## <b> Data Description </b>\n",
        "\n",
        "### <b>Attribute Information: </b>\n",
        "\n",
        "### This research employed a binary variable, default payment (Yes = 1, No = 0), as the response variable. This study reviewed the literature and used the following 23 variables as explanatory variables:\n",
        "* ### X1: Amount of the given credit (NT dollar): it includes both the individual consumer credit and his/her family (supplementary) credit.\n",
        "* ### X2: Gender (1 = male; 2 = female).\n",
        "* ### X3: Education (1 = graduate school; 2 = university; 3 = high school; 4 = others).\n",
        "* ### X4: Marital status (1 = married; 2 = single; 3 = others).\n",
        "* ### X5: Age (year).\n",
        "* ### X6 - X11: History of past payment. We tracked the past monthly payment records (from April to September, 2005) as follows: X6 = the repayment status in September, 2005; X7 = the repayment status in August, 2005; . . .;X11 = the repayment status in April, 2005. The measurement scale for the repayment status is: -1 = pay duly; 1 = payment delay for one month; 2 = payment delay for two months; . . .; 8 = payment delay for eight months; 9 = payment delay for nine months and above.\n",
        "* ### X12-X17: Amount of bill statement (NT dollar). X12 = amount of bill statement in September, 2005; X13 = amount of bill statement in August, 2005; . . .; X17 = amount of bill statement in April, 2005.\n",
        "* ### X18-X23: Amount of previous payment (NT dollar). X18 = amount paid in September, 2005; X19 = amount paid in August, 2005; . . .;X23 = amount paid in April, 2005."
      ]
    },
    {
      "cell_type": "code",
      "metadata": {
        "id": "dByMsuzT8Tnw"
      },
      "source": [
        "import pandas as pd\n",
        "import numpy as np\n",
        "import seaborn as sns\n",
        "import matplotlib.pyplot as plt\n"
      ],
      "execution_count": null,
      "outputs": []
    },
    {
      "cell_type": "code",
      "metadata": {
        "id": "uScyOLm_zpKT"
      },
      "source": [
        "df = pd.read_excel(\"/content/drive/MyDrive/default of credit card clients.xls\")"
      ],
      "execution_count": null,
      "outputs": []
    },
    {
      "cell_type": "code",
      "metadata": {
        "id": "iDndRhnozt76",
        "colab": {
          "base_uri": "https://localhost:8080/",
          "height": 292
        },
        "outputId": "fe17460c-060d-47ed-953f-ca08a3ff686e"
      },
      "source": [
        "df.head()"
      ],
      "execution_count": null,
      "outputs": [
        {
          "output_type": "execute_result",
          "data": {
            "text/html": [
              "<div>\n",
              "<style scoped>\n",
              "    .dataframe tbody tr th:only-of-type {\n",
              "        vertical-align: middle;\n",
              "    }\n",
              "\n",
              "    .dataframe tbody tr th {\n",
              "        vertical-align: top;\n",
              "    }\n",
              "\n",
              "    .dataframe thead th {\n",
              "        text-align: right;\n",
              "    }\n",
              "</style>\n",
              "<table border=\"1\" class=\"dataframe\">\n",
              "  <thead>\n",
              "    <tr style=\"text-align: right;\">\n",
              "      <th></th>\n",
              "      <th>Unnamed: 0</th>\n",
              "      <th>X1</th>\n",
              "      <th>X2</th>\n",
              "      <th>X3</th>\n",
              "      <th>X4</th>\n",
              "      <th>X5</th>\n",
              "      <th>X6</th>\n",
              "      <th>X7</th>\n",
              "      <th>X8</th>\n",
              "      <th>X9</th>\n",
              "      <th>X10</th>\n",
              "      <th>X11</th>\n",
              "      <th>X12</th>\n",
              "      <th>X13</th>\n",
              "      <th>X14</th>\n",
              "      <th>X15</th>\n",
              "      <th>X16</th>\n",
              "      <th>X17</th>\n",
              "      <th>X18</th>\n",
              "      <th>X19</th>\n",
              "      <th>X20</th>\n",
              "      <th>X21</th>\n",
              "      <th>X22</th>\n",
              "      <th>X23</th>\n",
              "      <th>Y</th>\n",
              "    </tr>\n",
              "  </thead>\n",
              "  <tbody>\n",
              "    <tr>\n",
              "      <th>0</th>\n",
              "      <td>ID</td>\n",
              "      <td>LIMIT_BAL</td>\n",
              "      <td>SEX</td>\n",
              "      <td>EDUCATION</td>\n",
              "      <td>MARRIAGE</td>\n",
              "      <td>AGE</td>\n",
              "      <td>PAY_0</td>\n",
              "      <td>PAY_2</td>\n",
              "      <td>PAY_3</td>\n",
              "      <td>PAY_4</td>\n",
              "      <td>PAY_5</td>\n",
              "      <td>PAY_6</td>\n",
              "      <td>BILL_AMT1</td>\n",
              "      <td>BILL_AMT2</td>\n",
              "      <td>BILL_AMT3</td>\n",
              "      <td>BILL_AMT4</td>\n",
              "      <td>BILL_AMT5</td>\n",
              "      <td>BILL_AMT6</td>\n",
              "      <td>PAY_AMT1</td>\n",
              "      <td>PAY_AMT2</td>\n",
              "      <td>PAY_AMT3</td>\n",
              "      <td>PAY_AMT4</td>\n",
              "      <td>PAY_AMT5</td>\n",
              "      <td>PAY_AMT6</td>\n",
              "      <td>default payment next month</td>\n",
              "    </tr>\n",
              "    <tr>\n",
              "      <th>1</th>\n",
              "      <td>1</td>\n",
              "      <td>20000</td>\n",
              "      <td>2</td>\n",
              "      <td>2</td>\n",
              "      <td>1</td>\n",
              "      <td>24</td>\n",
              "      <td>2</td>\n",
              "      <td>2</td>\n",
              "      <td>-1</td>\n",
              "      <td>-1</td>\n",
              "      <td>-2</td>\n",
              "      <td>-2</td>\n",
              "      <td>3913</td>\n",
              "      <td>3102</td>\n",
              "      <td>689</td>\n",
              "      <td>0</td>\n",
              "      <td>0</td>\n",
              "      <td>0</td>\n",
              "      <td>0</td>\n",
              "      <td>689</td>\n",
              "      <td>0</td>\n",
              "      <td>0</td>\n",
              "      <td>0</td>\n",
              "      <td>0</td>\n",
              "      <td>1</td>\n",
              "    </tr>\n",
              "    <tr>\n",
              "      <th>2</th>\n",
              "      <td>2</td>\n",
              "      <td>120000</td>\n",
              "      <td>2</td>\n",
              "      <td>2</td>\n",
              "      <td>2</td>\n",
              "      <td>26</td>\n",
              "      <td>-1</td>\n",
              "      <td>2</td>\n",
              "      <td>0</td>\n",
              "      <td>0</td>\n",
              "      <td>0</td>\n",
              "      <td>2</td>\n",
              "      <td>2682</td>\n",
              "      <td>1725</td>\n",
              "      <td>2682</td>\n",
              "      <td>3272</td>\n",
              "      <td>3455</td>\n",
              "      <td>3261</td>\n",
              "      <td>0</td>\n",
              "      <td>1000</td>\n",
              "      <td>1000</td>\n",
              "      <td>1000</td>\n",
              "      <td>0</td>\n",
              "      <td>2000</td>\n",
              "      <td>1</td>\n",
              "    </tr>\n",
              "    <tr>\n",
              "      <th>3</th>\n",
              "      <td>3</td>\n",
              "      <td>90000</td>\n",
              "      <td>2</td>\n",
              "      <td>2</td>\n",
              "      <td>2</td>\n",
              "      <td>34</td>\n",
              "      <td>0</td>\n",
              "      <td>0</td>\n",
              "      <td>0</td>\n",
              "      <td>0</td>\n",
              "      <td>0</td>\n",
              "      <td>0</td>\n",
              "      <td>29239</td>\n",
              "      <td>14027</td>\n",
              "      <td>13559</td>\n",
              "      <td>14331</td>\n",
              "      <td>14948</td>\n",
              "      <td>15549</td>\n",
              "      <td>1518</td>\n",
              "      <td>1500</td>\n",
              "      <td>1000</td>\n",
              "      <td>1000</td>\n",
              "      <td>1000</td>\n",
              "      <td>5000</td>\n",
              "      <td>0</td>\n",
              "    </tr>\n",
              "    <tr>\n",
              "      <th>4</th>\n",
              "      <td>4</td>\n",
              "      <td>50000</td>\n",
              "      <td>2</td>\n",
              "      <td>2</td>\n",
              "      <td>1</td>\n",
              "      <td>37</td>\n",
              "      <td>0</td>\n",
              "      <td>0</td>\n",
              "      <td>0</td>\n",
              "      <td>0</td>\n",
              "      <td>0</td>\n",
              "      <td>0</td>\n",
              "      <td>46990</td>\n",
              "      <td>48233</td>\n",
              "      <td>49291</td>\n",
              "      <td>28314</td>\n",
              "      <td>28959</td>\n",
              "      <td>29547</td>\n",
              "      <td>2000</td>\n",
              "      <td>2019</td>\n",
              "      <td>1200</td>\n",
              "      <td>1100</td>\n",
              "      <td>1069</td>\n",
              "      <td>1000</td>\n",
              "      <td>0</td>\n",
              "    </tr>\n",
              "  </tbody>\n",
              "</table>\n",
              "</div>"
            ],
            "text/plain": [
              "  Unnamed: 0         X1   X2  ...       X22       X23                           Y\n",
              "0         ID  LIMIT_BAL  SEX  ...  PAY_AMT5  PAY_AMT6  default payment next month\n",
              "1          1      20000    2  ...         0         0                           1\n",
              "2          2     120000    2  ...         0      2000                           1\n",
              "3          3      90000    2  ...      1000      5000                           0\n",
              "4          4      50000    2  ...      1069      1000                           0\n",
              "\n",
              "[5 rows x 25 columns]"
            ]
          },
          "metadata": {},
          "execution_count": 479
        }
      ]
    },
    {
      "cell_type": "code",
      "metadata": {
        "id": "9USqqL_3sNH4"
      },
      "source": [
        "df.drop(columns='Unnamed: 0',inplace=True)"
      ],
      "execution_count": null,
      "outputs": []
    },
    {
      "cell_type": "code",
      "metadata": {
        "id": "gWqiXeXm0S3J"
      },
      "source": [
        "columns = ['Limit_bal','Gender','Education','Marital_status','Age','Repayment_September','Repayment_August','Repayment_July','Repayment_June','Repayment_May',\n",
        "           'Repayment_April','Sep_Bill','Aug_Bill','July_Bill','June_Bill','May_Bill','Apr_Bill','Pay_Sep','Pay_Aug','Pay_July','Pay_June','Pay_May','Pay_April','Defaulter'] "
      ],
      "execution_count": null,
      "outputs": []
    },
    {
      "cell_type": "code",
      "metadata": {
        "colab": {
          "base_uri": "https://localhost:8080/"
        },
        "id": "gePHLAQdr0rw",
        "outputId": "1ea4793f-f04e-486e-b54c-93832b29e04a"
      },
      "source": [
        "len(columns)"
      ],
      "execution_count": null,
      "outputs": [
        {
          "output_type": "execute_result",
          "data": {
            "text/plain": [
              "24"
            ]
          },
          "metadata": {},
          "execution_count": 482
        }
      ]
    },
    {
      "cell_type": "code",
      "metadata": {
        "colab": {
          "base_uri": "https://localhost:8080/"
        },
        "id": "6-oF51pZr3GW",
        "outputId": "ad9fcb47-e690-4c22-9231-a04eff29bab6"
      },
      "source": [
        "df.shape"
      ],
      "execution_count": null,
      "outputs": [
        {
          "output_type": "execute_result",
          "data": {
            "text/plain": [
              "(30001, 24)"
            ]
          },
          "metadata": {},
          "execution_count": 483
        }
      ]
    },
    {
      "cell_type": "code",
      "metadata": {
        "id": "e8bKubb533RW"
      },
      "source": [
        "a=list(df.iloc[0])"
      ],
      "execution_count": null,
      "outputs": []
    },
    {
      "cell_type": "code",
      "metadata": {
        "id": "fh2IVIyP40sN"
      },
      "source": [
        "df.set_axis(columns, axis=1, inplace=True)"
      ],
      "execution_count": null,
      "outputs": []
    },
    {
      "cell_type": "code",
      "metadata": {
        "id": "0LIeTJG15Wve"
      },
      "source": [
        "df=df.drop(0,axis=0).reset_index()"
      ],
      "execution_count": null,
      "outputs": []
    },
    {
      "cell_type": "code",
      "metadata": {
        "id": "VDrF1fke6ABi",
        "colab": {
          "base_uri": "https://localhost:8080/",
          "height": 224
        },
        "outputId": "9fddbc68-31eb-4c15-fb89-85889dfa614a"
      },
      "source": [
        "df.head()"
      ],
      "execution_count": null,
      "outputs": [
        {
          "output_type": "execute_result",
          "data": {
            "text/html": [
              "<div>\n",
              "<style scoped>\n",
              "    .dataframe tbody tr th:only-of-type {\n",
              "        vertical-align: middle;\n",
              "    }\n",
              "\n",
              "    .dataframe tbody tr th {\n",
              "        vertical-align: top;\n",
              "    }\n",
              "\n",
              "    .dataframe thead th {\n",
              "        text-align: right;\n",
              "    }\n",
              "</style>\n",
              "<table border=\"1\" class=\"dataframe\">\n",
              "  <thead>\n",
              "    <tr style=\"text-align: right;\">\n",
              "      <th></th>\n",
              "      <th>index</th>\n",
              "      <th>Limit_bal</th>\n",
              "      <th>Gender</th>\n",
              "      <th>Education</th>\n",
              "      <th>Marital_status</th>\n",
              "      <th>Age</th>\n",
              "      <th>Repayment_September</th>\n",
              "      <th>Repayment_August</th>\n",
              "      <th>Repayment_July</th>\n",
              "      <th>Repayment_June</th>\n",
              "      <th>Repayment_May</th>\n",
              "      <th>Repayment_April</th>\n",
              "      <th>Sep_Bill</th>\n",
              "      <th>Aug_Bill</th>\n",
              "      <th>July_Bill</th>\n",
              "      <th>June_Bill</th>\n",
              "      <th>May_Bill</th>\n",
              "      <th>Apr_Bill</th>\n",
              "      <th>Pay_Sep</th>\n",
              "      <th>Pay_Aug</th>\n",
              "      <th>Pay_July</th>\n",
              "      <th>Pay_June</th>\n",
              "      <th>Pay_May</th>\n",
              "      <th>Pay_April</th>\n",
              "      <th>Defaulter</th>\n",
              "    </tr>\n",
              "  </thead>\n",
              "  <tbody>\n",
              "    <tr>\n",
              "      <th>0</th>\n",
              "      <td>1</td>\n",
              "      <td>20000</td>\n",
              "      <td>2</td>\n",
              "      <td>2</td>\n",
              "      <td>1</td>\n",
              "      <td>24</td>\n",
              "      <td>2</td>\n",
              "      <td>2</td>\n",
              "      <td>-1</td>\n",
              "      <td>-1</td>\n",
              "      <td>-2</td>\n",
              "      <td>-2</td>\n",
              "      <td>3913</td>\n",
              "      <td>3102</td>\n",
              "      <td>689</td>\n",
              "      <td>0</td>\n",
              "      <td>0</td>\n",
              "      <td>0</td>\n",
              "      <td>0</td>\n",
              "      <td>689</td>\n",
              "      <td>0</td>\n",
              "      <td>0</td>\n",
              "      <td>0</td>\n",
              "      <td>0</td>\n",
              "      <td>1</td>\n",
              "    </tr>\n",
              "    <tr>\n",
              "      <th>1</th>\n",
              "      <td>2</td>\n",
              "      <td>120000</td>\n",
              "      <td>2</td>\n",
              "      <td>2</td>\n",
              "      <td>2</td>\n",
              "      <td>26</td>\n",
              "      <td>-1</td>\n",
              "      <td>2</td>\n",
              "      <td>0</td>\n",
              "      <td>0</td>\n",
              "      <td>0</td>\n",
              "      <td>2</td>\n",
              "      <td>2682</td>\n",
              "      <td>1725</td>\n",
              "      <td>2682</td>\n",
              "      <td>3272</td>\n",
              "      <td>3455</td>\n",
              "      <td>3261</td>\n",
              "      <td>0</td>\n",
              "      <td>1000</td>\n",
              "      <td>1000</td>\n",
              "      <td>1000</td>\n",
              "      <td>0</td>\n",
              "      <td>2000</td>\n",
              "      <td>1</td>\n",
              "    </tr>\n",
              "    <tr>\n",
              "      <th>2</th>\n",
              "      <td>3</td>\n",
              "      <td>90000</td>\n",
              "      <td>2</td>\n",
              "      <td>2</td>\n",
              "      <td>2</td>\n",
              "      <td>34</td>\n",
              "      <td>0</td>\n",
              "      <td>0</td>\n",
              "      <td>0</td>\n",
              "      <td>0</td>\n",
              "      <td>0</td>\n",
              "      <td>0</td>\n",
              "      <td>29239</td>\n",
              "      <td>14027</td>\n",
              "      <td>13559</td>\n",
              "      <td>14331</td>\n",
              "      <td>14948</td>\n",
              "      <td>15549</td>\n",
              "      <td>1518</td>\n",
              "      <td>1500</td>\n",
              "      <td>1000</td>\n",
              "      <td>1000</td>\n",
              "      <td>1000</td>\n",
              "      <td>5000</td>\n",
              "      <td>0</td>\n",
              "    </tr>\n",
              "    <tr>\n",
              "      <th>3</th>\n",
              "      <td>4</td>\n",
              "      <td>50000</td>\n",
              "      <td>2</td>\n",
              "      <td>2</td>\n",
              "      <td>1</td>\n",
              "      <td>37</td>\n",
              "      <td>0</td>\n",
              "      <td>0</td>\n",
              "      <td>0</td>\n",
              "      <td>0</td>\n",
              "      <td>0</td>\n",
              "      <td>0</td>\n",
              "      <td>46990</td>\n",
              "      <td>48233</td>\n",
              "      <td>49291</td>\n",
              "      <td>28314</td>\n",
              "      <td>28959</td>\n",
              "      <td>29547</td>\n",
              "      <td>2000</td>\n",
              "      <td>2019</td>\n",
              "      <td>1200</td>\n",
              "      <td>1100</td>\n",
              "      <td>1069</td>\n",
              "      <td>1000</td>\n",
              "      <td>0</td>\n",
              "    </tr>\n",
              "    <tr>\n",
              "      <th>4</th>\n",
              "      <td>5</td>\n",
              "      <td>50000</td>\n",
              "      <td>1</td>\n",
              "      <td>2</td>\n",
              "      <td>1</td>\n",
              "      <td>57</td>\n",
              "      <td>-1</td>\n",
              "      <td>0</td>\n",
              "      <td>-1</td>\n",
              "      <td>0</td>\n",
              "      <td>0</td>\n",
              "      <td>0</td>\n",
              "      <td>8617</td>\n",
              "      <td>5670</td>\n",
              "      <td>35835</td>\n",
              "      <td>20940</td>\n",
              "      <td>19146</td>\n",
              "      <td>19131</td>\n",
              "      <td>2000</td>\n",
              "      <td>36681</td>\n",
              "      <td>10000</td>\n",
              "      <td>9000</td>\n",
              "      <td>689</td>\n",
              "      <td>679</td>\n",
              "      <td>0</td>\n",
              "    </tr>\n",
              "  </tbody>\n",
              "</table>\n",
              "</div>"
            ],
            "text/plain": [
              "   index Limit_bal Gender Education  ... Pay_June Pay_May Pay_April Defaulter\n",
              "0      1     20000      2         2  ...        0       0         0         1\n",
              "1      2    120000      2         2  ...     1000       0      2000         1\n",
              "2      3     90000      2         2  ...     1000    1000      5000         0\n",
              "3      4     50000      2         2  ...     1100    1069      1000         0\n",
              "4      5     50000      1         2  ...     9000     689       679         0\n",
              "\n",
              "[5 rows x 25 columns]"
            ]
          },
          "metadata": {},
          "execution_count": 487
        }
      ]
    },
    {
      "cell_type": "code",
      "metadata": {
        "id": "s9bKn0_26dKa"
      },
      "source": [
        "df.drop(columns=['index'],inplace=True)"
      ],
      "execution_count": null,
      "outputs": []
    },
    {
      "cell_type": "code",
      "metadata": {
        "id": "BZaB-Buv6quA",
        "colab": {
          "base_uri": "https://localhost:8080/"
        },
        "outputId": "a00b688c-b85a-480d-8ebc-5629dc9b213d"
      },
      "source": [
        "df.info()"
      ],
      "execution_count": null,
      "outputs": [
        {
          "output_type": "stream",
          "name": "stdout",
          "text": [
            "<class 'pandas.core.frame.DataFrame'>\n",
            "RangeIndex: 30000 entries, 0 to 29999\n",
            "Data columns (total 24 columns):\n",
            " #   Column               Non-Null Count  Dtype \n",
            "---  ------               --------------  ----- \n",
            " 0   Limit_bal            30000 non-null  object\n",
            " 1   Gender               30000 non-null  object\n",
            " 2   Education            30000 non-null  object\n",
            " 3   Marital_status       30000 non-null  object\n",
            " 4   Age                  30000 non-null  object\n",
            " 5   Repayment_September  30000 non-null  object\n",
            " 6   Repayment_August     30000 non-null  object\n",
            " 7   Repayment_July       30000 non-null  object\n",
            " 8   Repayment_June       30000 non-null  object\n",
            " 9   Repayment_May        30000 non-null  object\n",
            " 10  Repayment_April      30000 non-null  object\n",
            " 11  Sep_Bill             30000 non-null  object\n",
            " 12  Aug_Bill             30000 non-null  object\n",
            " 13  July_Bill            30000 non-null  object\n",
            " 14  June_Bill            30000 non-null  object\n",
            " 15  May_Bill             30000 non-null  object\n",
            " 16  Apr_Bill             30000 non-null  object\n",
            " 17  Pay_Sep              30000 non-null  object\n",
            " 18  Pay_Aug              30000 non-null  object\n",
            " 19  Pay_July             30000 non-null  object\n",
            " 20  Pay_June             30000 non-null  object\n",
            " 21  Pay_May              30000 non-null  object\n",
            " 22  Pay_April            30000 non-null  object\n",
            " 23  Defaulter            30000 non-null  object\n",
            "dtypes: object(24)\n",
            "memory usage: 5.5+ MB\n"
          ]
        }
      ]
    },
    {
      "cell_type": "code",
      "metadata": {
        "id": "ritA5vEq7lAk",
        "colab": {
          "base_uri": "https://localhost:8080/"
        },
        "outputId": "f0fd3eb3-f6cc-43cd-c000-975e9862a11f"
      },
      "source": [
        "df.duplicated().sum()"
      ],
      "execution_count": null,
      "outputs": [
        {
          "output_type": "execute_result",
          "data": {
            "text/plain": [
              "35"
            ]
          },
          "metadata": {},
          "execution_count": 490
        }
      ]
    },
    {
      "cell_type": "code",
      "metadata": {
        "id": "r8nPRAZ47y7V"
      },
      "source": [
        "df.drop_duplicates(inplace=True)"
      ],
      "execution_count": null,
      "outputs": []
    },
    {
      "cell_type": "code",
      "metadata": {
        "id": "y0eFvzwb74j-",
        "colab": {
          "base_uri": "https://localhost:8080/"
        },
        "outputId": "82ee1bdc-8c00-4473-a8a5-582b0800ba48"
      },
      "source": [
        "df.isnull().sum()"
      ],
      "execution_count": null,
      "outputs": [
        {
          "output_type": "execute_result",
          "data": {
            "text/plain": [
              "Limit_bal              0\n",
              "Gender                 0\n",
              "Education              0\n",
              "Marital_status         0\n",
              "Age                    0\n",
              "Repayment_September    0\n",
              "Repayment_August       0\n",
              "Repayment_July         0\n",
              "Repayment_June         0\n",
              "Repayment_May          0\n",
              "Repayment_April        0\n",
              "Sep_Bill               0\n",
              "Aug_Bill               0\n",
              "July_Bill              0\n",
              "June_Bill              0\n",
              "May_Bill               0\n",
              "Apr_Bill               0\n",
              "Pay_Sep                0\n",
              "Pay_Aug                0\n",
              "Pay_July               0\n",
              "Pay_June               0\n",
              "Pay_May                0\n",
              "Pay_April              0\n",
              "Defaulter              0\n",
              "dtype: int64"
            ]
          },
          "metadata": {},
          "execution_count": 492
        }
      ]
    },
    {
      "cell_type": "code",
      "metadata": {
        "id": "PLviFRJStpRE"
      },
      "source": [
        "for i in df.columns:\n",
        "  df[i]=df[i].astype('int')"
      ],
      "execution_count": null,
      "outputs": []
    },
    {
      "cell_type": "code",
      "metadata": {
        "colab": {
          "base_uri": "https://localhost:8080/"
        },
        "id": "1MUd7Tlgt0dQ",
        "outputId": "adaece39-bd6f-4c0b-97ed-5aeb68a1a3a8"
      },
      "source": [
        "df.info()"
      ],
      "execution_count": null,
      "outputs": [
        {
          "output_type": "stream",
          "name": "stdout",
          "text": [
            "<class 'pandas.core.frame.DataFrame'>\n",
            "Int64Index: 29965 entries, 0 to 29999\n",
            "Data columns (total 24 columns):\n",
            " #   Column               Non-Null Count  Dtype\n",
            "---  ------               --------------  -----\n",
            " 0   Limit_bal            29965 non-null  int64\n",
            " 1   Gender               29965 non-null  int64\n",
            " 2   Education            29965 non-null  int64\n",
            " 3   Marital_status       29965 non-null  int64\n",
            " 4   Age                  29965 non-null  int64\n",
            " 5   Repayment_September  29965 non-null  int64\n",
            " 6   Repayment_August     29965 non-null  int64\n",
            " 7   Repayment_July       29965 non-null  int64\n",
            " 8   Repayment_June       29965 non-null  int64\n",
            " 9   Repayment_May        29965 non-null  int64\n",
            " 10  Repayment_April      29965 non-null  int64\n",
            " 11  Sep_Bill             29965 non-null  int64\n",
            " 12  Aug_Bill             29965 non-null  int64\n",
            " 13  July_Bill            29965 non-null  int64\n",
            " 14  June_Bill            29965 non-null  int64\n",
            " 15  May_Bill             29965 non-null  int64\n",
            " 16  Apr_Bill             29965 non-null  int64\n",
            " 17  Pay_Sep              29965 non-null  int64\n",
            " 18  Pay_Aug              29965 non-null  int64\n",
            " 19  Pay_July             29965 non-null  int64\n",
            " 20  Pay_June             29965 non-null  int64\n",
            " 21  Pay_May              29965 non-null  int64\n",
            " 22  Pay_April            29965 non-null  int64\n",
            " 23  Defaulter            29965 non-null  int64\n",
            "dtypes: int64(24)\n",
            "memory usage: 5.7 MB\n"
          ]
        }
      ]
    },
    {
      "cell_type": "code",
      "metadata": {
        "colab": {
          "base_uri": "https://localhost:8080/",
          "height": 793
        },
        "id": "EPoq6gf-uJZh",
        "outputId": "5ffcb6af-d1a7-4dd6-f076-870d476b0fb6"
      },
      "source": [
        "df.describe().transpose()"
      ],
      "execution_count": null,
      "outputs": [
        {
          "output_type": "execute_result",
          "data": {
            "text/html": [
              "<div>\n",
              "<style scoped>\n",
              "    .dataframe tbody tr th:only-of-type {\n",
              "        vertical-align: middle;\n",
              "    }\n",
              "\n",
              "    .dataframe tbody tr th {\n",
              "        vertical-align: top;\n",
              "    }\n",
              "\n",
              "    .dataframe thead th {\n",
              "        text-align: right;\n",
              "    }\n",
              "</style>\n",
              "<table border=\"1\" class=\"dataframe\">\n",
              "  <thead>\n",
              "    <tr style=\"text-align: right;\">\n",
              "      <th></th>\n",
              "      <th>count</th>\n",
              "      <th>mean</th>\n",
              "      <th>std</th>\n",
              "      <th>min</th>\n",
              "      <th>25%</th>\n",
              "      <th>50%</th>\n",
              "      <th>75%</th>\n",
              "      <th>max</th>\n",
              "    </tr>\n",
              "  </thead>\n",
              "  <tbody>\n",
              "    <tr>\n",
              "      <th>Limit_bal</th>\n",
              "      <td>29965.0</td>\n",
              "      <td>167442.005006</td>\n",
              "      <td>129760.135222</td>\n",
              "      <td>10000.0</td>\n",
              "      <td>50000.0</td>\n",
              "      <td>140000.0</td>\n",
              "      <td>240000.0</td>\n",
              "      <td>1000000.0</td>\n",
              "    </tr>\n",
              "    <tr>\n",
              "      <th>Gender</th>\n",
              "      <td>29965.0</td>\n",
              "      <td>1.603738</td>\n",
              "      <td>0.489128</td>\n",
              "      <td>1.0</td>\n",
              "      <td>1.0</td>\n",
              "      <td>2.0</td>\n",
              "      <td>2.0</td>\n",
              "      <td>2.0</td>\n",
              "    </tr>\n",
              "    <tr>\n",
              "      <th>Education</th>\n",
              "      <td>29965.0</td>\n",
              "      <td>1.853629</td>\n",
              "      <td>0.790411</td>\n",
              "      <td>0.0</td>\n",
              "      <td>1.0</td>\n",
              "      <td>2.0</td>\n",
              "      <td>2.0</td>\n",
              "      <td>6.0</td>\n",
              "    </tr>\n",
              "    <tr>\n",
              "      <th>Marital_status</th>\n",
              "      <td>29965.0</td>\n",
              "      <td>1.551877</td>\n",
              "      <td>0.521997</td>\n",
              "      <td>0.0</td>\n",
              "      <td>1.0</td>\n",
              "      <td>2.0</td>\n",
              "      <td>2.0</td>\n",
              "      <td>3.0</td>\n",
              "    </tr>\n",
              "    <tr>\n",
              "      <th>Age</th>\n",
              "      <td>29965.0</td>\n",
              "      <td>35.487969</td>\n",
              "      <td>9.219459</td>\n",
              "      <td>21.0</td>\n",
              "      <td>28.0</td>\n",
              "      <td>34.0</td>\n",
              "      <td>41.0</td>\n",
              "      <td>79.0</td>\n",
              "    </tr>\n",
              "    <tr>\n",
              "      <th>Repayment_September</th>\n",
              "      <td>29965.0</td>\n",
              "      <td>-0.016753</td>\n",
              "      <td>1.123492</td>\n",
              "      <td>-2.0</td>\n",
              "      <td>-1.0</td>\n",
              "      <td>0.0</td>\n",
              "      <td>0.0</td>\n",
              "      <td>8.0</td>\n",
              "    </tr>\n",
              "    <tr>\n",
              "      <th>Repayment_August</th>\n",
              "      <td>29965.0</td>\n",
              "      <td>-0.131854</td>\n",
              "      <td>1.196322</td>\n",
              "      <td>-2.0</td>\n",
              "      <td>-1.0</td>\n",
              "      <td>0.0</td>\n",
              "      <td>0.0</td>\n",
              "      <td>8.0</td>\n",
              "    </tr>\n",
              "    <tr>\n",
              "      <th>Repayment_July</th>\n",
              "      <td>29965.0</td>\n",
              "      <td>-0.164392</td>\n",
              "      <td>1.195878</td>\n",
              "      <td>-2.0</td>\n",
              "      <td>-1.0</td>\n",
              "      <td>0.0</td>\n",
              "      <td>0.0</td>\n",
              "      <td>8.0</td>\n",
              "    </tr>\n",
              "    <tr>\n",
              "      <th>Repayment_June</th>\n",
              "      <td>29965.0</td>\n",
              "      <td>-0.218922</td>\n",
              "      <td>1.168175</td>\n",
              "      <td>-2.0</td>\n",
              "      <td>-1.0</td>\n",
              "      <td>0.0</td>\n",
              "      <td>0.0</td>\n",
              "      <td>8.0</td>\n",
              "    </tr>\n",
              "    <tr>\n",
              "      <th>Repayment_May</th>\n",
              "      <td>29965.0</td>\n",
              "      <td>-0.264509</td>\n",
              "      <td>1.132220</td>\n",
              "      <td>-2.0</td>\n",
              "      <td>-1.0</td>\n",
              "      <td>0.0</td>\n",
              "      <td>0.0</td>\n",
              "      <td>8.0</td>\n",
              "    </tr>\n",
              "    <tr>\n",
              "      <th>Repayment_April</th>\n",
              "      <td>29965.0</td>\n",
              "      <td>-0.289438</td>\n",
              "      <td>1.149090</td>\n",
              "      <td>-2.0</td>\n",
              "      <td>-1.0</td>\n",
              "      <td>0.0</td>\n",
              "      <td>0.0</td>\n",
              "      <td>8.0</td>\n",
              "    </tr>\n",
              "    <tr>\n",
              "      <th>Sep_Bill</th>\n",
              "      <td>29965.0</td>\n",
              "      <td>51283.009778</td>\n",
              "      <td>73658.132403</td>\n",
              "      <td>-165580.0</td>\n",
              "      <td>3595.0</td>\n",
              "      <td>22438.0</td>\n",
              "      <td>67260.0</td>\n",
              "      <td>964511.0</td>\n",
              "    </tr>\n",
              "    <tr>\n",
              "      <th>Aug_Bill</th>\n",
              "      <td>29965.0</td>\n",
              "      <td>49236.366294</td>\n",
              "      <td>71195.567392</td>\n",
              "      <td>-69777.0</td>\n",
              "      <td>3010.0</td>\n",
              "      <td>21295.0</td>\n",
              "      <td>64109.0</td>\n",
              "      <td>983931.0</td>\n",
              "    </tr>\n",
              "    <tr>\n",
              "      <th>July_Bill</th>\n",
              "      <td>29965.0</td>\n",
              "      <td>47067.916069</td>\n",
              "      <td>69371.352323</td>\n",
              "      <td>-157264.0</td>\n",
              "      <td>2711.0</td>\n",
              "      <td>20135.0</td>\n",
              "      <td>60201.0</td>\n",
              "      <td>1664089.0</td>\n",
              "    </tr>\n",
              "    <tr>\n",
              "      <th>June_Bill</th>\n",
              "      <td>29965.0</td>\n",
              "      <td>43313.329885</td>\n",
              "      <td>64353.514373</td>\n",
              "      <td>-170000.0</td>\n",
              "      <td>2360.0</td>\n",
              "      <td>19081.0</td>\n",
              "      <td>54601.0</td>\n",
              "      <td>891586.0</td>\n",
              "    </tr>\n",
              "    <tr>\n",
              "      <th>May_Bill</th>\n",
              "      <td>29965.0</td>\n",
              "      <td>40358.334390</td>\n",
              "      <td>60817.130623</td>\n",
              "      <td>-81334.0</td>\n",
              "      <td>1787.0</td>\n",
              "      <td>18130.0</td>\n",
              "      <td>50247.0</td>\n",
              "      <td>927171.0</td>\n",
              "    </tr>\n",
              "    <tr>\n",
              "      <th>Apr_Bill</th>\n",
              "      <td>29965.0</td>\n",
              "      <td>38917.012281</td>\n",
              "      <td>59574.147742</td>\n",
              "      <td>-339603.0</td>\n",
              "      <td>1262.0</td>\n",
              "      <td>17124.0</td>\n",
              "      <td>49252.0</td>\n",
              "      <td>961664.0</td>\n",
              "    </tr>\n",
              "    <tr>\n",
              "      <th>Pay_Sep</th>\n",
              "      <td>29965.0</td>\n",
              "      <td>5670.099316</td>\n",
              "      <td>16571.849467</td>\n",
              "      <td>0.0</td>\n",
              "      <td>1000.0</td>\n",
              "      <td>2102.0</td>\n",
              "      <td>5008.0</td>\n",
              "      <td>873552.0</td>\n",
              "    </tr>\n",
              "    <tr>\n",
              "      <th>Pay_Aug</th>\n",
              "      <td>29965.0</td>\n",
              "      <td>5927.983180</td>\n",
              "      <td>23053.456645</td>\n",
              "      <td>0.0</td>\n",
              "      <td>850.0</td>\n",
              "      <td>2010.0</td>\n",
              "      <td>5000.0</td>\n",
              "      <td>1684259.0</td>\n",
              "    </tr>\n",
              "    <tr>\n",
              "      <th>Pay_July</th>\n",
              "      <td>29965.0</td>\n",
              "      <td>5231.688837</td>\n",
              "      <td>17616.361124</td>\n",
              "      <td>0.0</td>\n",
              "      <td>390.0</td>\n",
              "      <td>1804.0</td>\n",
              "      <td>4512.0</td>\n",
              "      <td>896040.0</td>\n",
              "    </tr>\n",
              "    <tr>\n",
              "      <th>Pay_June</th>\n",
              "      <td>29965.0</td>\n",
              "      <td>4831.617454</td>\n",
              "      <td>15674.464538</td>\n",
              "      <td>0.0</td>\n",
              "      <td>300.0</td>\n",
              "      <td>1500.0</td>\n",
              "      <td>4016.0</td>\n",
              "      <td>621000.0</td>\n",
              "    </tr>\n",
              "    <tr>\n",
              "      <th>Pay_May</th>\n",
              "      <td>29965.0</td>\n",
              "      <td>4804.897047</td>\n",
              "      <td>15286.372298</td>\n",
              "      <td>0.0</td>\n",
              "      <td>261.0</td>\n",
              "      <td>1500.0</td>\n",
              "      <td>4042.0</td>\n",
              "      <td>426529.0</td>\n",
              "    </tr>\n",
              "    <tr>\n",
              "      <th>Pay_April</th>\n",
              "      <td>29965.0</td>\n",
              "      <td>5221.498014</td>\n",
              "      <td>17786.976864</td>\n",
              "      <td>0.0</td>\n",
              "      <td>131.0</td>\n",
              "      <td>1500.0</td>\n",
              "      <td>4000.0</td>\n",
              "      <td>528666.0</td>\n",
              "    </tr>\n",
              "    <tr>\n",
              "      <th>Defaulter</th>\n",
              "      <td>29965.0</td>\n",
              "      <td>0.221258</td>\n",
              "      <td>0.415101</td>\n",
              "      <td>0.0</td>\n",
              "      <td>0.0</td>\n",
              "      <td>0.0</td>\n",
              "      <td>0.0</td>\n",
              "      <td>1.0</td>\n",
              "    </tr>\n",
              "  </tbody>\n",
              "</table>\n",
              "</div>"
            ],
            "text/plain": [
              "                       count           mean  ...       75%        max\n",
              "Limit_bal            29965.0  167442.005006  ...  240000.0  1000000.0\n",
              "Gender               29965.0       1.603738  ...       2.0        2.0\n",
              "Education            29965.0       1.853629  ...       2.0        6.0\n",
              "Marital_status       29965.0       1.551877  ...       2.0        3.0\n",
              "Age                  29965.0      35.487969  ...      41.0       79.0\n",
              "Repayment_September  29965.0      -0.016753  ...       0.0        8.0\n",
              "Repayment_August     29965.0      -0.131854  ...       0.0        8.0\n",
              "Repayment_July       29965.0      -0.164392  ...       0.0        8.0\n",
              "Repayment_June       29965.0      -0.218922  ...       0.0        8.0\n",
              "Repayment_May        29965.0      -0.264509  ...       0.0        8.0\n",
              "Repayment_April      29965.0      -0.289438  ...       0.0        8.0\n",
              "Sep_Bill             29965.0   51283.009778  ...   67260.0   964511.0\n",
              "Aug_Bill             29965.0   49236.366294  ...   64109.0   983931.0\n",
              "July_Bill            29965.0   47067.916069  ...   60201.0  1664089.0\n",
              "June_Bill            29965.0   43313.329885  ...   54601.0   891586.0\n",
              "May_Bill             29965.0   40358.334390  ...   50247.0   927171.0\n",
              "Apr_Bill             29965.0   38917.012281  ...   49252.0   961664.0\n",
              "Pay_Sep              29965.0    5670.099316  ...    5008.0   873552.0\n",
              "Pay_Aug              29965.0    5927.983180  ...    5000.0  1684259.0\n",
              "Pay_July             29965.0    5231.688837  ...    4512.0   896040.0\n",
              "Pay_June             29965.0    4831.617454  ...    4016.0   621000.0\n",
              "Pay_May              29965.0    4804.897047  ...    4042.0   426529.0\n",
              "Pay_April            29965.0    5221.498014  ...    4000.0   528666.0\n",
              "Defaulter            29965.0       0.221258  ...       0.0        1.0\n",
              "\n",
              "[24 rows x 8 columns]"
            ]
          },
          "metadata": {},
          "execution_count": 495
        }
      ]
    },
    {
      "cell_type": "code",
      "metadata": {
        "id": "bvwvVifPviAU"
      },
      "source": [
        "# sns.pairplot(df)"
      ],
      "execution_count": null,
      "outputs": []
    },
    {
      "cell_type": "code",
      "metadata": {
        "id": "Igw6yo4nGis7"
      },
      "source": [
        "def outliers(feature):\n",
        "  plt.figure(figsize=(16,4))\n",
        "  plt.subplot(1,2,1)\n",
        "  plt.hist(df[feature],alpha=0.5)\n",
        "\n",
        "  #boxplot\n",
        "  plt.subplot(1,2,2)\n",
        "  sns.boxplot(df[feature])\n",
        "  plt.show\n"
      ],
      "execution_count": null,
      "outputs": []
    },
    {
      "cell_type": "code",
      "metadata": {
        "colab": {
          "base_uri": "https://localhost:8080/",
          "height": 334
        },
        "id": "3TThDnZiPBqq",
        "outputId": "4223af51-c1fc-4d00-ab7a-eefb54e282c5"
      },
      "source": [
        "outliers('Limit_bal')"
      ],
      "execution_count": null,
      "outputs": [
        {
          "output_type": "stream",
          "name": "stderr",
          "text": [
            "/usr/local/lib/python3.7/dist-packages/seaborn/_decorators.py:43: FutureWarning: Pass the following variable as a keyword arg: x. From version 0.12, the only valid positional argument will be `data`, and passing other arguments without an explicit keyword will result in an error or misinterpretation.\n",
            "  FutureWarning\n"
          ]
        },
        {
          "output_type": "display_data",
          "data": {
            "image/png": "[encoded data removed]",
            "text/plain": [
              "<Figure size 1152x288 with 2 Axes>"
            ]
          },
          "metadata": {
            "needs_background": "light"
          }
        }
      ]
    },
    {
      "cell_type": "code",
      "metadata": {
        "id": "D1EadCh-zJF-"
      },
      "source": [
        "df.loc[df['Limit_bal']>500000,'Limit_bal']=500000"
      ],
      "execution_count": null,
      "outputs": []
    },
    {
      "cell_type": "code",
      "metadata": {
        "colab": {
          "base_uri": "https://localhost:8080/",
          "height": 337
        },
        "id": "rm7RTrN3JRi6",
        "outputId": "4813602e-f438-4952-a3a1-12859bd707c1"
      },
      "source": [
        "outliers('Limit_bal')"
      ],
      "execution_count": null,
      "outputs": [
        {
          "output_type": "stream",
          "name": "stderr",
          "text": [
            "/usr/local/lib/python3.7/dist-packages/seaborn/_decorators.py:43: FutureWarning: Pass the following variable as a keyword arg: x. From version 0.12, the only valid positional argument will be `data`, and passing other arguments without an explicit keyword will result in an error or misinterpretation.\n",
            "  FutureWarning\n"
          ]
        },
        {
          "output_type": "display_data",
          "data": {
            "image/png": "[encoded data removed]",
            "text/plain": [
              "<Figure size 1152x288 with 2 Axes>"
            ]
          },
          "metadata": {
            "needs_background": "light"
          }
        }
      ]
    },
    {
      "cell_type": "code",
      "metadata": {
        "colab": {
          "base_uri": "https://localhost:8080/"
        },
        "id": "FYS3jHo-JnmI",
        "outputId": "8c9dc1a7-7932-42a1-deed-e25193f2ae08"
      },
      "source": [
        "df.columns"
      ],
      "execution_count": null,
      "outputs": [
        {
          "output_type": "execute_result",
          "data": {
            "text/plain": [
              "Index(['Limit_bal', 'Gender', 'Education', 'Marital_status', 'Age',\n",
              "       'Repayment_September', 'Repayment_August', 'Repayment_July',\n",
              "       'Repayment_June', 'Repayment_May', 'Repayment_April', 'Sep_Bill',\n",
              "       'Aug_Bill', 'July_Bill', 'June_Bill', 'May_Bill', 'Apr_Bill', 'Pay_Sep',\n",
              "       'Pay_Aug', 'Pay_July', 'Pay_June', 'Pay_May', 'Pay_April', 'Defaulter'],\n",
              "      dtype='object')"
            ]
          },
          "metadata": {},
          "execution_count": 501
        }
      ]
    },
    {
      "cell_type": "code",
      "metadata": {
        "colab": {
          "base_uri": "https://localhost:8080/"
        },
        "id": "SA1hY5XHK2j1",
        "outputId": "e484fa29-1df4-484c-c697-886d3c0b8815"
      },
      "source": [
        "df['Gender'].value_counts()"
      ],
      "execution_count": null,
      "outputs": [
        {
          "output_type": "execute_result",
          "data": {
            "text/plain": [
              "2    18091\n",
              "1    11874\n",
              "Name: Gender, dtype: int64"
            ]
          },
          "metadata": {},
          "execution_count": 502
        }
      ]
    },
    {
      "cell_type": "code",
      "metadata": {
        "id": "uzVNAVB2K64l"
      },
      "source": [
        "df['Gender'] = df['Gender'].apply(lambda x:'Male'  if x == 1 else 'Female')"
      ],
      "execution_count": null,
      "outputs": []
    },
    {
      "cell_type": "code",
      "metadata": {
        "colab": {
          "base_uri": "https://localhost:8080/",
          "height": 350
        },
        "id": "uTzC6ygqypEL",
        "outputId": "36d7b5d0-a297-4138-bfcf-388ea4a9e15a"
      },
      "source": [
        "sns.countplot(df['Gender'],hue=df['Defaulter'])"
      ],
      "execution_count": null,
      "outputs": [
        {
          "output_type": "stream",
          "name": "stderr",
          "text": [
            "/usr/local/lib/python3.7/dist-packages/seaborn/_decorators.py:43: FutureWarning: Pass the following variable as a keyword arg: x. From version 0.12, the only valid positional argument will be `data`, and passing other arguments without an explicit keyword will result in an error or misinterpretation.\n",
            "  FutureWarning\n"
          ]
        },
        {
          "output_type": "execute_result",
          "data": {
            "text/plain": [
              "<matplotlib.axes._subplots.AxesSubplot at 0x7f87d9b87e50>"
            ]
          },
          "metadata": {},
          "execution_count": 504
        },
        {
          "output_type": "display_data",
          "data": {
            "image/png": "[encoded data removed]",
            "text/plain": [
              "<Figure size 432x288 with 1 Axes>"
            ]
          },
          "metadata": {
            "needs_background": "light"
          }
        }
      ]
    },
    {
      "cell_type": "code",
      "metadata": {
        "colab": {
          "base_uri": "https://localhost:8080/"
        },
        "id": "UDS_6F8tydYc",
        "outputId": "679745b8-6b68-4928-e78c-45c9e62a8e0d"
      },
      "source": [
        "df.Gender.value_counts()"
      ],
      "execution_count": null,
      "outputs": [
        {
          "output_type": "execute_result",
          "data": {
            "text/plain": [
              "Female    18091\n",
              "Male      11874\n",
              "Name: Gender, dtype: int64"
            ]
          },
          "metadata": {},
          "execution_count": 505
        }
      ]
    },
    {
      "cell_type": "code",
      "metadata": {
        "colab": {
          "base_uri": "https://localhost:8080/"
        },
        "id": "h-juexlPccqE",
        "outputId": "0bb05842-a6fb-47d6-8eb5-688c1ed1233f"
      },
      "source": [
        "df[df.Defaulter==1].Gender.value_counts(normalize =True)"
      ],
      "execution_count": null,
      "outputs": [
        {
          "output_type": "execute_result",
          "data": {
            "text/plain": [
              "Female    0.56727\n",
              "Male      0.43273\n",
              "Name: Gender, dtype: float64"
            ]
          },
          "metadata": {},
          "execution_count": 506
        }
      ]
    },
    {
      "cell_type": "code",
      "metadata": {
        "colab": {
          "base_uri": "https://localhost:8080/"
        },
        "id": "QoO66OpT1M7G",
        "outputId": "31bddfb3-3f76-42d6-fb2d-2ea2768a08b8"
      },
      "source": [
        "# Education (1 = graduate school; 2 = university; 3 = high school; 4 = others)\n",
        "df['Education'].value_counts()"
      ],
      "execution_count": null,
      "outputs": [
        {
          "output_type": "execute_result",
          "data": {
            "text/plain": [
              "2    14019\n",
              "1    10563\n",
              "3     4915\n",
              "5      280\n",
              "4      123\n",
              "6       51\n",
              "0       14\n",
              "Name: Education, dtype: int64"
            ]
          },
          "metadata": {},
          "execution_count": 507
        }
      ]
    },
    {
      "cell_type": "code",
      "metadata": {
        "colab": {
          "base_uri": "https://localhost:8080/",
          "height": 333
        },
        "id": "LEU2VybGeI6l",
        "outputId": "c8ec9ce8-fbdc-4438-d76c-c6773e9c5b10"
      },
      "source": [
        "outliers('Education')"
      ],
      "execution_count": null,
      "outputs": [
        {
          "output_type": "stream",
          "name": "stderr",
          "text": [
            "/usr/local/lib/python3.7/dist-packages/seaborn/_decorators.py:43: FutureWarning: Pass the following variable as a keyword arg: x. From version 0.12, the only valid positional argument will be `data`, and passing other arguments without an explicit keyword will result in an error or misinterpretation.\n",
            "  FutureWarning\n"
          ]
        },
        {
          "output_type": "display_data",
          "data": {
            "image/png": "[encoded data removed]",
            "text/plain": [
              "<Figure size 1152x288 with 2 Axes>"
            ]
          },
          "metadata": {
            "needs_background": "light"
          }
        }
      ]
    },
    {
      "cell_type": "code",
      "metadata": {
        "id": "5O9Hfff41Y18"
      },
      "source": [
        "df['Education']=df['Education'].apply(lambda x :'graduate' if x==1 else ('university' if x==2 else ('high school' if x==3  else 'others')))"
      ],
      "execution_count": null,
      "outputs": []
    },
    {
      "cell_type": "code",
      "metadata": {
        "colab": {
          "base_uri": "https://localhost:8080/",
          "height": 350
        },
        "id": "DS2QJPvzeY7Q",
        "outputId": "a426ccb6-aca0-447f-d44a-d9f0a0b47988"
      },
      "source": [
        "sns.countplot(df['Education'],hue=df.Defaulter)"
      ],
      "execution_count": null,
      "outputs": [
        {
          "output_type": "stream",
          "name": "stderr",
          "text": [
            "/usr/local/lib/python3.7/dist-packages/seaborn/_decorators.py:43: FutureWarning: Pass the following variable as a keyword arg: x. From version 0.12, the only valid positional argument will be `data`, and passing other arguments without an explicit keyword will result in an error or misinterpretation.\n",
            "  FutureWarning\n"
          ]
        },
        {
          "output_type": "execute_result",
          "data": {
            "text/plain": [
              "<matplotlib.axes._subplots.AxesSubplot at 0x7f87da0c16d0>"
            ]
          },
          "metadata": {},
          "execution_count": 510
        },
        {
          "output_type": "display_data",
          "data": {
            "image/png": "[encoded data removed]",
            "text/plain": [
              "<Figure size 432x288 with 1 Axes>"
            ]
          },
          "metadata": {
            "needs_background": "light"
          }
        }
      ]
    },
    {
      "cell_type": "code",
      "metadata": {
        "colab": {
          "base_uri": "https://localhost:8080/"
        },
        "id": "2qf7y2C2eu0r",
        "outputId": "449477cf-b414-4e5c-9a4d-ea80f198887d"
      },
      "source": [
        "df[df.Defaulter == 1].Education.value_counts(normalize=True)"
      ],
      "execution_count": null,
      "outputs": [
        {
          "output_type": "execute_result",
          "data": {
            "text/plain": [
              "university     0.501961\n",
              "graduate       0.306486\n",
              "high school    0.186576\n",
              "others         0.004977\n",
              "Name: Education, dtype: float64"
            ]
          },
          "metadata": {},
          "execution_count": 511
        }
      ]
    },
    {
      "cell_type": "code",
      "metadata": {
        "colab": {
          "base_uri": "https://localhost:8080/"
        },
        "id": "8kcPbEgj44Bf",
        "outputId": "008b13bb-38a7-4642-ae95-911832cf3e37"
      },
      "source": [
        "#Marital status (1 = married; 2 = single; 3 = others).\n",
        "df['Marital_status'].value_counts()"
      ],
      "execution_count": null,
      "outputs": [
        {
          "output_type": "execute_result",
          "data": {
            "text/plain": [
              "2    15945\n",
              "1    13643\n",
              "3      323\n",
              "0       54\n",
              "Name: Marital_status, dtype: int64"
            ]
          },
          "metadata": {},
          "execution_count": 512
        }
      ]
    },
    {
      "cell_type": "code",
      "metadata": {
        "colab": {
          "base_uri": "https://localhost:8080/",
          "height": 334
        },
        "id": "gc7yNNXWgON3",
        "outputId": "21c8c028-0a24-4ec8-fd99-4feb22026abe"
      },
      "source": [
        "outliers('Marital_status')"
      ],
      "execution_count": null,
      "outputs": [
        {
          "output_type": "stream",
          "name": "stderr",
          "text": [
            "/usr/local/lib/python3.7/dist-packages/seaborn/_decorators.py:43: FutureWarning: Pass the following variable as a keyword arg: x. From version 0.12, the only valid positional argument will be `data`, and passing other arguments without an explicit keyword will result in an error or misinterpretation.\n",
            "  FutureWarning\n"
          ]
        },
        {
          "output_type": "display_data",
          "data": {
            "image/png": "[encoded data removed]",
            "text/plain": [
              "<Figure size 1152x288 with 2 Axes>"
            ]
          },
          "metadata": {
            "needs_background": "light"
          }
        }
      ]
    },
    {
      "cell_type": "code",
      "metadata": {
        "id": "ChLsIvfD5iyM"
      },
      "source": [
        "df['Marital_status']=df['Marital_status'].apply(lambda x : \"married\" if x==1 else (\"single\" if x==2 else 'others'))"
      ],
      "execution_count": null,
      "outputs": []
    },
    {
      "cell_type": "code",
      "metadata": {
        "colab": {
          "base_uri": "https://localhost:8080/",
          "height": 367
        },
        "id": "cX32BbipgS0G",
        "outputId": "e6f945bd-e4f6-4b69-ac3d-e8f08b1a4803"
      },
      "source": [
        "sns.countplot(df['Marital_status'],hue=df.Defaulter,palette=[\"green\", \"red\"]).set_title('Marital status with respect of Defaulter or not')"
      ],
      "execution_count": null,
      "outputs": [
        {
          "output_type": "stream",
          "name": "stderr",
          "text": [
            "/usr/local/lib/python3.7/dist-packages/seaborn/_decorators.py:43: FutureWarning: Pass the following variable as a keyword arg: x. From version 0.12, the only valid positional argument will be `data`, and passing other arguments without an explicit keyword will result in an error or misinterpretation.\n",
            "  FutureWarning\n"
          ]
        },
        {
          "output_type": "execute_result",
          "data": {
            "text/plain": [
              "Text(0.5, 1.0, 'Marital status with respect of Defaulter or not')"
            ]
          },
          "metadata": {},
          "execution_count": 515
        },
        {
          "output_type": "display_data",
          "data": {
            "image/png": "[encoded data removed]",
            "text/plain": [
              "<Figure size 432x288 with 1 Axes>"
            ]
          },
          "metadata": {
            "needs_background": "light"
          }
        }
      ]
    },
    {
      "cell_type": "code",
      "metadata": {
        "colab": {
          "base_uri": "https://localhost:8080/"
        },
        "id": "k-gquqxvgj1b",
        "outputId": "d3b82c49-1dde-486e-b095-731a1ef33880"
      },
      "source": [
        "df[df.Defaulter==1].Marital_status.value_counts(normalize=True)"
      ],
      "execution_count": null,
      "outputs": [
        {
          "output_type": "execute_result",
          "data": {
            "text/plain": [
              "single     0.503771\n",
              "married    0.482805\n",
              "others     0.013424\n",
              "Name: Marital_status, dtype: float64"
            ]
          },
          "metadata": {},
          "execution_count": 516
        }
      ]
    },
    {
      "cell_type": "code",
      "metadata": {
        "colab": {
          "base_uri": "https://localhost:8080/"
        },
        "id": "iXbqNU196Npj",
        "outputId": "df611358-e52a-4a2c-a6eb-493b8e02a53f"
      },
      "source": [
        "df.Age.value_counts().sort_index()"
      ],
      "execution_count": null,
      "outputs": [
        {
          "output_type": "execute_result",
          "data": {
            "text/plain": [
              "21      67\n",
              "22     560\n",
              "23     930\n",
              "24    1126\n",
              "25    1185\n",
              "26    1252\n",
              "27    1475\n",
              "28    1406\n",
              "29    1602\n",
              "30    1394\n",
              "31    1213\n",
              "32    1157\n",
              "33    1146\n",
              "34    1161\n",
              "35    1113\n",
              "36    1107\n",
              "37    1041\n",
              "38     943\n",
              "39     951\n",
              "40     870\n",
              "41     822\n",
              "42     792\n",
              "43     669\n",
              "44     700\n",
              "45     617\n",
              "46     570\n",
              "47     501\n",
              "48     466\n",
              "49     449\n",
              "50     411\n",
              "51     340\n",
              "52     304\n",
              "53     325\n",
              "54     247\n",
              "55     209\n",
              "56     178\n",
              "57     122\n",
              "58     122\n",
              "59      83\n",
              "60      67\n",
              "61      56\n",
              "62      44\n",
              "63      31\n",
              "64      31\n",
              "65      24\n",
              "66      25\n",
              "67      16\n",
              "68       5\n",
              "69      15\n",
              "70      10\n",
              "71       3\n",
              "72       3\n",
              "73       4\n",
              "74       1\n",
              "75       3\n",
              "79       1\n",
              "Name: Age, dtype: int64"
            ]
          },
          "metadata": {},
          "execution_count": 517
        }
      ]
    },
    {
      "cell_type": "code",
      "metadata": {
        "colab": {
          "base_uri": "https://localhost:8080/",
          "height": 333
        },
        "id": "LL2lgrFEmlHQ",
        "outputId": "104af8b1-1add-4d57-a424-09beeec9f1cf"
      },
      "source": [
        "outliers('Age')"
      ],
      "execution_count": null,
      "outputs": [
        {
          "output_type": "stream",
          "name": "stderr",
          "text": [
            "/usr/local/lib/python3.7/dist-packages/seaborn/_decorators.py:43: FutureWarning: Pass the following variable as a keyword arg: x. From version 0.12, the only valid positional argument will be `data`, and passing other arguments without an explicit keyword will result in an error or misinterpretation.\n",
            "  FutureWarning\n"
          ]
        },
        {
          "output_type": "display_data",
          "data": {
            "image/png": "[encoded data removed]",
            "text/plain": [
              "<Figure size 1152x288 with 2 Axes>"
            ]
          },
          "metadata": {
            "needs_background": "light"
          }
        }
      ]
    },
    {
      "cell_type": "code",
      "metadata": {
        "id": "NhfaeD3m7BEq"
      },
      "source": [
        "df['Age_Group']=pd.cut(df.Age, bins=[21,30,40,50,60,100], labels=['21-30','31-40','41-50','51-60','60+'])"
      ],
      "execution_count": null,
      "outputs": []
    },
    {
      "cell_type": "code",
      "metadata": {
        "colab": {
          "base_uri": "https://localhost:8080/",
          "height": 359
        },
        "id": "Syb4gacaAbG2",
        "outputId": "d679036a-a0fc-4765-b895-d8aaf9668a09"
      },
      "source": [
        "df[['Age','Age_Group']].sample(10)"
      ],
      "execution_count": null,
      "outputs": [
        {
          "output_type": "execute_result",
          "data": {
            "text/html": [
              "<div>\n",
              "<style scoped>\n",
              "    .dataframe tbody tr th:only-of-type {\n",
              "        vertical-align: middle;\n",
              "    }\n",
              "\n",
              "    .dataframe tbody tr th {\n",
              "        vertical-align: top;\n",
              "    }\n",
              "\n",
              "    .dataframe thead th {\n",
              "        text-align: right;\n",
              "    }\n",
              "</style>\n",
              "<table border=\"1\" class=\"dataframe\">\n",
              "  <thead>\n",
              "    <tr style=\"text-align: right;\">\n",
              "      <th></th>\n",
              "      <th>Age</th>\n",
              "      <th>Age_Group</th>\n",
              "    </tr>\n",
              "  </thead>\n",
              "  <tbody>\n",
              "    <tr>\n",
              "      <th>124</th>\n",
              "      <td>27</td>\n",
              "      <td>21-30</td>\n",
              "    </tr>\n",
              "    <tr>\n",
              "      <th>6326</th>\n",
              "      <td>35</td>\n",
              "      <td>31-40</td>\n",
              "    </tr>\n",
              "    <tr>\n",
              "      <th>5835</th>\n",
              "      <td>26</td>\n",
              "      <td>21-30</td>\n",
              "    </tr>\n",
              "    <tr>\n",
              "      <th>7712</th>\n",
              "      <td>34</td>\n",
              "      <td>31-40</td>\n",
              "    </tr>\n",
              "    <tr>\n",
              "      <th>28298</th>\n",
              "      <td>31</td>\n",
              "      <td>31-40</td>\n",
              "    </tr>\n",
              "    <tr>\n",
              "      <th>29197</th>\n",
              "      <td>24</td>\n",
              "      <td>21-30</td>\n",
              "    </tr>\n",
              "    <tr>\n",
              "      <th>23571</th>\n",
              "      <td>44</td>\n",
              "      <td>41-50</td>\n",
              "    </tr>\n",
              "    <tr>\n",
              "      <th>24248</th>\n",
              "      <td>31</td>\n",
              "      <td>31-40</td>\n",
              "    </tr>\n",
              "    <tr>\n",
              "      <th>21509</th>\n",
              "      <td>23</td>\n",
              "      <td>21-30</td>\n",
              "    </tr>\n",
              "    <tr>\n",
              "      <th>3174</th>\n",
              "      <td>23</td>\n",
              "      <td>21-30</td>\n",
              "    </tr>\n",
              "  </tbody>\n",
              "</table>\n",
              "</div>"
            ],
            "text/plain": [
              "       Age Age_Group\n",
              "124     27     21-30\n",
              "6326    35     31-40\n",
              "5835    26     21-30\n",
              "7712    34     31-40\n",
              "28298   31     31-40\n",
              "29197   24     21-30\n",
              "23571   44     41-50\n",
              "24248   31     31-40\n",
              "21509   23     21-30\n",
              "3174    23     21-30"
            ]
          },
          "metadata": {},
          "execution_count": 520
        }
      ]
    },
    {
      "cell_type": "code",
      "metadata": {
        "colab": {
          "base_uri": "https://localhost:8080/",
          "height": 351
        },
        "id": "85XHbSN_sUSF",
        "outputId": "0103b458-2bb2-42fa-a695-40f17d5fa3be"
      },
      "source": [
        "sns.countplot(df['Age_Group'],hue=df['Defaulter'],palette=['green','red'])"
      ],
      "execution_count": null,
      "outputs": [
        {
          "output_type": "stream",
          "name": "stderr",
          "text": [
            "/usr/local/lib/python3.7/dist-packages/seaborn/_decorators.py:43: FutureWarning: Pass the following variable as a keyword arg: x. From version 0.12, the only valid positional argument will be `data`, and passing other arguments without an explicit keyword will result in an error or misinterpretation.\n",
            "  FutureWarning\n"
          ]
        },
        {
          "output_type": "execute_result",
          "data": {
            "text/plain": [
              "<matplotlib.axes._subplots.AxesSubplot at 0x7f87d6faedd0>"
            ]
          },
          "metadata": {},
          "execution_count": 521
        },
        {
          "output_type": "display_data",
          "data": {
            "image/png": "[encoded data removed]",
            "text/plain": [
              "<Figure size 432x288 with 1 Axes>"
            ]
          },
          "metadata": {
            "needs_background": "light"
          }
        }
      ]
    },
    {
      "cell_type": "markdown",
      "metadata": {
        "id": "MYgr2r85Ck8J"
      },
      "source": [
        "X6 - X11: History of past payment. We tracked the past monthly payment records (from April to September, 2005) as follows: X6 = the repayment status in September, 2005; X7 = the repayment status in August, 2005; . . .;X11 = the repayment status in April, 2005. The measurement scale for the repayment status is: -1 = pay duly; 1 = payment delay for one month; 2 = payment delay for two months; . . .; 8 = payment delay for eight months; 9 = payment delay for nine months and above."
      ]
    },
    {
      "cell_type": "code",
      "metadata": {
        "colab": {
          "base_uri": "https://localhost:8080/"
        },
        "id": "4Npec2G4uHcj",
        "outputId": "b476b6fc-4f9e-435d-f1e7-2800ab82e45f"
      },
      "source": [
        "df.columns"
      ],
      "execution_count": null,
      "outputs": [
        {
          "output_type": "execute_result",
          "data": {
            "text/plain": [
              "Index(['Limit_bal', 'Gender', 'Education', 'Marital_status', 'Age',\n",
              "       'Repayment_September', 'Repayment_August', 'Repayment_July',\n",
              "       'Repayment_June', 'Repayment_May', 'Repayment_April', 'Sep_Bill',\n",
              "       'Aug_Bill', 'July_Bill', 'June_Bill', 'May_Bill', 'Apr_Bill', 'Pay_Sep',\n",
              "       'Pay_Aug', 'Pay_July', 'Pay_June', 'Pay_May', 'Pay_April', 'Defaulter',\n",
              "       'Age_Group'],\n",
              "      dtype='object')"
            ]
          },
          "metadata": {},
          "execution_count": 522
        }
      ]
    },
    {
      "cell_type": "code",
      "metadata": {
        "colab": {
          "base_uri": "https://localhost:8080/"
        },
        "id": "qQAyBAajBrPs",
        "outputId": "833d31c7-4bb4-4ea5-8070-14220fab1322"
      },
      "source": [
        "df['Repayment_September'].value_counts()"
      ],
      "execution_count": null,
      "outputs": [
        {
          "output_type": "execute_result",
          "data": {
            "text/plain": [
              " 0    14737\n",
              "-1     5682\n",
              " 1     3667\n",
              "-2     2750\n",
              " 2     2666\n",
              " 3      322\n",
              " 4       76\n",
              " 5       26\n",
              " 8       19\n",
              " 6       11\n",
              " 7        9\n",
              "Name: Repayment_September, dtype: int64"
            ]
          },
          "metadata": {},
          "execution_count": 523
        }
      ]
    },
    {
      "cell_type": "code",
      "metadata": {
        "id": "Z2VOlHjBTgFD"
      },
      "source": [
        "def pay(delay):\n",
        "    if delay <= 0:\n",
        "      return 0\n",
        "    elif delay >= 3:\n",
        "      return 3\n",
        "    else:\n",
        "      return delay"
      ],
      "execution_count": null,
      "outputs": []
    },
    {
      "cell_type": "code",
      "metadata": {
        "colab": {
          "base_uri": "https://localhost:8080/"
        },
        "id": "gtXWtXr0u_WK",
        "outputId": "a202cca9-43d4-47f6-efc9-df4b00cce32c"
      },
      "source": [
        "df.info()"
      ],
      "execution_count": null,
      "outputs": [
        {
          "output_type": "stream",
          "name": "stdout",
          "text": [
            "<class 'pandas.core.frame.DataFrame'>\n",
            "Int64Index: 29965 entries, 0 to 29999\n",
            "Data columns (total 25 columns):\n",
            " #   Column               Non-Null Count  Dtype   \n",
            "---  ------               --------------  -----   \n",
            " 0   Limit_bal            29965 non-null  int64   \n",
            " 1   Gender               29965 non-null  object  \n",
            " 2   Education            29965 non-null  object  \n",
            " 3   Marital_status       29965 non-null  object  \n",
            " 4   Age                  29965 non-null  int64   \n",
            " 5   Repayment_September  29965 non-null  int64   \n",
            " 6   Repayment_August     29965 non-null  int64   \n",
            " 7   Repayment_July       29965 non-null  int64   \n",
            " 8   Repayment_June       29965 non-null  int64   \n",
            " 9   Repayment_May        29965 non-null  int64   \n",
            " 10  Repayment_April      29965 non-null  int64   \n",
            " 11  Sep_Bill             29965 non-null  int64   \n",
            " 12  Aug_Bill             29965 non-null  int64   \n",
            " 13  July_Bill            29965 non-null  int64   \n",
            " 14  June_Bill            29965 non-null  int64   \n",
            " 15  May_Bill             29965 non-null  int64   \n",
            " 16  Apr_Bill             29965 non-null  int64   \n",
            " 17  Pay_Sep              29965 non-null  int64   \n",
            " 18  Pay_Aug              29965 non-null  int64   \n",
            " 19  Pay_July             29965 non-null  int64   \n",
            " 20  Pay_June             29965 non-null  int64   \n",
            " 21  Pay_May              29965 non-null  int64   \n",
            " 22  Pay_April            29965 non-null  int64   \n",
            " 23  Defaulter            29965 non-null  int64   \n",
            " 24  Age_Group            29898 non-null  category\n",
            "dtypes: category(1), int64(21), object(3)\n",
            "memory usage: 7.0+ MB\n"
          ]
        }
      ]
    },
    {
      "cell_type": "code",
      "metadata": {
        "id": "5nuwXLIFVxJy",
        "colab": {
          "base_uri": "https://localhost:8080/"
        },
        "outputId": "f285bbf9-85b9-4672-e55d-fa1cffd0539d"
      },
      "source": [
        "for i in df.columns[5:11]:\n",
        "  print(i)\n",
        "  df[i]=df[i].apply(pay)"
      ],
      "execution_count": null,
      "outputs": [
        {
          "output_type": "stream",
          "name": "stdout",
          "text": [
            "Repayment_September\n",
            "Repayment_August\n",
            "Repayment_July\n",
            "Repayment_June\n",
            "Repayment_May\n",
            "Repayment_April\n"
          ]
        }
      ]
    },
    {
      "cell_type": "code",
      "metadata": {
        "colab": {
          "base_uri": "https://localhost:8080/",
          "height": 224
        },
        "id": "SmjYy2YXCew6",
        "outputId": "1476b32a-166b-4ff7-ea26-f739ebdc3231"
      },
      "source": [
        "df.sample(5)"
      ],
      "execution_count": null,
      "outputs": [
        {
          "output_type": "execute_result",
          "data": {
            "text/html": [
              "<div>\n",
              "<style scoped>\n",
              "    .dataframe tbody tr th:only-of-type {\n",
              "        vertical-align: middle;\n",
              "    }\n",
              "\n",
              "    .dataframe tbody tr th {\n",
              "        vertical-align: top;\n",
              "    }\n",
              "\n",
              "    .dataframe thead th {\n",
              "        text-align: right;\n",
              "    }\n",
              "</style>\n",
              "<table border=\"1\" class=\"dataframe\">\n",
              "  <thead>\n",
              "    <tr style=\"text-align: right;\">\n",
              "      <th></th>\n",
              "      <th>Limit_bal</th>\n",
              "      <th>Gender</th>\n",
              "      <th>Education</th>\n",
              "      <th>Marital_status</th>\n",
              "      <th>Age</th>\n",
              "      <th>Repayment_September</th>\n",
              "      <th>Repayment_August</th>\n",
              "      <th>Repayment_July</th>\n",
              "      <th>Repayment_June</th>\n",
              "      <th>Repayment_May</th>\n",
              "      <th>Repayment_April</th>\n",
              "      <th>Sep_Bill</th>\n",
              "      <th>Aug_Bill</th>\n",
              "      <th>July_Bill</th>\n",
              "      <th>June_Bill</th>\n",
              "      <th>May_Bill</th>\n",
              "      <th>Apr_Bill</th>\n",
              "      <th>Pay_Sep</th>\n",
              "      <th>Pay_Aug</th>\n",
              "      <th>Pay_July</th>\n",
              "      <th>Pay_June</th>\n",
              "      <th>Pay_May</th>\n",
              "      <th>Pay_April</th>\n",
              "      <th>Defaulter</th>\n",
              "      <th>Age_Group</th>\n",
              "    </tr>\n",
              "  </thead>\n",
              "  <tbody>\n",
              "    <tr>\n",
              "      <th>14983</th>\n",
              "      <td>350000</td>\n",
              "      <td>Male</td>\n",
              "      <td>graduate</td>\n",
              "      <td>single</td>\n",
              "      <td>30</td>\n",
              "      <td>0</td>\n",
              "      <td>0</td>\n",
              "      <td>0</td>\n",
              "      <td>0</td>\n",
              "      <td>0</td>\n",
              "      <td>0</td>\n",
              "      <td>18265</td>\n",
              "      <td>31619</td>\n",
              "      <td>2071</td>\n",
              "      <td>2915</td>\n",
              "      <td>1011</td>\n",
              "      <td>23620</td>\n",
              "      <td>16158</td>\n",
              "      <td>2081</td>\n",
              "      <td>2929</td>\n",
              "      <td>1016</td>\n",
              "      <td>23738</td>\n",
              "      <td>919</td>\n",
              "      <td>0</td>\n",
              "      <td>21-30</td>\n",
              "    </tr>\n",
              "    <tr>\n",
              "      <th>541</th>\n",
              "      <td>150000</td>\n",
              "      <td>Female</td>\n",
              "      <td>graduate</td>\n",
              "      <td>single</td>\n",
              "      <td>28</td>\n",
              "      <td>1</td>\n",
              "      <td>0</td>\n",
              "      <td>0</td>\n",
              "      <td>0</td>\n",
              "      <td>0</td>\n",
              "      <td>0</td>\n",
              "      <td>0</td>\n",
              "      <td>0</td>\n",
              "      <td>0</td>\n",
              "      <td>0</td>\n",
              "      <td>0</td>\n",
              "      <td>318</td>\n",
              "      <td>0</td>\n",
              "      <td>0</td>\n",
              "      <td>0</td>\n",
              "      <td>0</td>\n",
              "      <td>318</td>\n",
              "      <td>0</td>\n",
              "      <td>0</td>\n",
              "      <td>21-30</td>\n",
              "    </tr>\n",
              "    <tr>\n",
              "      <th>22674</th>\n",
              "      <td>150000</td>\n",
              "      <td>Female</td>\n",
              "      <td>university</td>\n",
              "      <td>single</td>\n",
              "      <td>31</td>\n",
              "      <td>0</td>\n",
              "      <td>0</td>\n",
              "      <td>0</td>\n",
              "      <td>0</td>\n",
              "      <td>0</td>\n",
              "      <td>0</td>\n",
              "      <td>138363</td>\n",
              "      <td>138979</td>\n",
              "      <td>37713</td>\n",
              "      <td>35592</td>\n",
              "      <td>35808</td>\n",
              "      <td>36730</td>\n",
              "      <td>6000</td>\n",
              "      <td>2000</td>\n",
              "      <td>2000</td>\n",
              "      <td>1300</td>\n",
              "      <td>1500</td>\n",
              "      <td>1500</td>\n",
              "      <td>0</td>\n",
              "      <td>31-40</td>\n",
              "    </tr>\n",
              "    <tr>\n",
              "      <th>29571</th>\n",
              "      <td>500000</td>\n",
              "      <td>Male</td>\n",
              "      <td>graduate</td>\n",
              "      <td>single</td>\n",
              "      <td>33</td>\n",
              "      <td>0</td>\n",
              "      <td>0</td>\n",
              "      <td>0</td>\n",
              "      <td>0</td>\n",
              "      <td>0</td>\n",
              "      <td>0</td>\n",
              "      <td>388897</td>\n",
              "      <td>253793</td>\n",
              "      <td>261176</td>\n",
              "      <td>266800</td>\n",
              "      <td>0</td>\n",
              "      <td>0</td>\n",
              "      <td>9083</td>\n",
              "      <td>11472</td>\n",
              "      <td>12000</td>\n",
              "      <td>0</td>\n",
              "      <td>0</td>\n",
              "      <td>0</td>\n",
              "      <td>0</td>\n",
              "      <td>31-40</td>\n",
              "    </tr>\n",
              "    <tr>\n",
              "      <th>27955</th>\n",
              "      <td>140000</td>\n",
              "      <td>Female</td>\n",
              "      <td>university</td>\n",
              "      <td>married</td>\n",
              "      <td>27</td>\n",
              "      <td>2</td>\n",
              "      <td>0</td>\n",
              "      <td>0</td>\n",
              "      <td>0</td>\n",
              "      <td>0</td>\n",
              "      <td>0</td>\n",
              "      <td>776</td>\n",
              "      <td>752</td>\n",
              "      <td>776</td>\n",
              "      <td>1580</td>\n",
              "      <td>804</td>\n",
              "      <td>728</td>\n",
              "      <td>752</td>\n",
              "      <td>800</td>\n",
              "      <td>1580</td>\n",
              "      <td>0</td>\n",
              "      <td>700</td>\n",
              "      <td>700</td>\n",
              "      <td>0</td>\n",
              "      <td>21-30</td>\n",
              "    </tr>\n",
              "  </tbody>\n",
              "</table>\n",
              "</div>"
            ],
            "text/plain": [
              "       Limit_bal  Gender   Education  ... Pay_April  Defaulter  Age_Group\n",
              "14983     350000    Male    graduate  ...       919          0      21-30\n",
              "541       150000  Female    graduate  ...         0          0      21-30\n",
              "22674     150000  Female  university  ...      1500          0      31-40\n",
              "29571     500000    Male    graduate  ...         0          0      31-40\n",
              "27955     140000  Female  university  ...       700          0      21-30\n",
              "\n",
              "[5 rows x 25 columns]"
            ]
          },
          "metadata": {},
          "execution_count": 527
        }
      ]
    },
    {
      "cell_type": "code",
      "metadata": {
        "colab": {
          "base_uri": "https://localhost:8080/"
        },
        "id": "pqy4DZTQSfUM",
        "outputId": "42c53894-14ef-422d-945c-fbd359a9db35"
      },
      "source": [
        "df['Repayment_September'].value_counts()"
      ],
      "execution_count": null,
      "outputs": [
        {
          "output_type": "execute_result",
          "data": {
            "text/plain": [
              "0    23169\n",
              "1     3667\n",
              "2     2666\n",
              "3      463\n",
              "Name: Repayment_September, dtype: int64"
            ]
          },
          "metadata": {},
          "execution_count": 528
        }
      ]
    },
    {
      "cell_type": "code",
      "metadata": {
        "id": "K-kLNvHyXKRQ"
      },
      "source": [
        "df.drop(columns='Age',inplace=True)"
      ],
      "execution_count": null,
      "outputs": []
    },
    {
      "cell_type": "code",
      "metadata": {
        "colab": {
          "base_uri": "https://localhost:8080/"
        },
        "id": "GCZg0zZTX8IG",
        "outputId": "897180f5-3274-497a-a859-940abf16b83d"
      },
      "source": [
        "df['Defaulter'].value_counts()"
      ],
      "execution_count": null,
      "outputs": [
        {
          "output_type": "execute_result",
          "data": {
            "text/plain": [
              "0    23335\n",
              "1     6630\n",
              "Name: Defaulter, dtype: int64"
            ]
          },
          "metadata": {},
          "execution_count": 530
        }
      ]
    },
    {
      "cell_type": "code",
      "metadata": {
        "id": "9pewpTkgxyRk"
      },
      "source": [
        "# #Multicollinearity\n",
        "# from statsmodels.stats.outliers_influence import variance_inflation_factor\n",
        "# def calc_vif(X):\n",
        " \n",
        "#    # Calculating VIF\n",
        "#    vif = pd.DataFrame()\n",
        "#    vif[\"variables\"] = X.columns\n",
        "#    vif[\"VIF\"] = [variance_inflation_factor(X.values, i) for i in range(X.shape[1])]\n",
        " \n",
        "#    return(vif)"
      ],
      "execution_count": null,
      "outputs": []
    },
    {
      "cell_type": "code",
      "metadata": {
        "id": "Ut-J6CGIygwn"
      },
      "source": [
        "# # using seaborn heatmap for ploting correlation graph \n",
        "# plt.figure(figsize=(15,10))\n",
        "# sns.heatmap(abs(df.corr()), cmap='coolwarm', annot=True)"
      ],
      "execution_count": null,
      "outputs": []
    },
    {
      "cell_type": "code",
      "metadata": {
        "id": "Nfeo_YqMx8s9"
      },
      "source": [
        "# calc_vif(df[[i for i in df.describe().columns if i not in ['default payment next month','BILL_AMT5','BILL_AMT3','BILL_AMT2','BILL_AMT6']]])"
      ],
      "execution_count": null,
      "outputs": []
    },
    {
      "cell_type": "code",
      "metadata": {
        "id": "0f33NBiTz3Kc"
      },
      "source": [
        "# vif_df=df.drop(columns=['BILL_AMT5','BILL_AMT3','BILL_AMT2','BILL_AMT6'])"
      ],
      "execution_count": null,
      "outputs": []
    },
    {
      "cell_type": "code",
      "metadata": {
        "colab": {
          "base_uri": "https://localhost:8080/"
        },
        "id": "3aIiW_HjwP-_",
        "outputId": "d16f8e54-3482-4bf6-d804-9bcb472217b8"
      },
      "source": [
        "df.info()"
      ],
      "execution_count": null,
      "outputs": [
        {
          "output_type": "stream",
          "name": "stdout",
          "text": [
            "<class 'pandas.core.frame.DataFrame'>\n",
            "Int64Index: 29965 entries, 0 to 29999\n",
            "Data columns (total 24 columns):\n",
            " #   Column               Non-Null Count  Dtype   \n",
            "---  ------               --------------  -----   \n",
            " 0   Limit_bal            29965 non-null  int64   \n",
            " 1   Gender               29965 non-null  object  \n",
            " 2   Education            29965 non-null  object  \n",
            " 3   Marital_status       29965 non-null  object  \n",
            " 4   Repayment_September  29965 non-null  int64   \n",
            " 5   Repayment_August     29965 non-null  int64   \n",
            " 6   Repayment_July       29965 non-null  int64   \n",
            " 7   Repayment_June       29965 non-null  int64   \n",
            " 8   Repayment_May        29965 non-null  int64   \n",
            " 9   Repayment_April      29965 non-null  int64   \n",
            " 10  Sep_Bill             29965 non-null  int64   \n",
            " 11  Aug_Bill             29965 non-null  int64   \n",
            " 12  July_Bill            29965 non-null  int64   \n",
            " 13  June_Bill            29965 non-null  int64   \n",
            " 14  May_Bill             29965 non-null  int64   \n",
            " 15  Apr_Bill             29965 non-null  int64   \n",
            " 16  Pay_Sep              29965 non-null  int64   \n",
            " 17  Pay_Aug              29965 non-null  int64   \n",
            " 18  Pay_July             29965 non-null  int64   \n",
            " 19  Pay_June             29965 non-null  int64   \n",
            " 20  Pay_May              29965 non-null  int64   \n",
            " 21  Pay_April            29965 non-null  int64   \n",
            " 22  Defaulter            29965 non-null  int64   \n",
            " 23  Age_Group            29898 non-null  category\n",
            "dtypes: category(1), int64(20), object(3)\n",
            "memory usage: 6.8+ MB\n"
          ]
        }
      ]
    },
    {
      "cell_type": "code",
      "metadata": {
        "id": "xM4uy-nMYOVe"
      },
      "source": [
        "new_df=pd.get_dummies(df,drop_first=True)"
      ],
      "execution_count": null,
      "outputs": []
    },
    {
      "cell_type": "code",
      "metadata": {
        "colab": {
          "base_uri": "https://localhost:8080/",
          "height": 317
        },
        "id": "oYjqtv9_xC3y",
        "outputId": "a5864781-d6e8-4544-aa82-ee6e06b8d69e"
      },
      "source": [
        "df.describe()"
      ],
      "execution_count": null,
      "outputs": [
        {
          "output_type": "execute_result",
          "data": {
            "text/html": [
              "<div>\n",
              "<style scoped>\n",
              "    .dataframe tbody tr th:only-of-type {\n",
              "        vertical-align: middle;\n",
              "    }\n",
              "\n",
              "    .dataframe tbody tr th {\n",
              "        vertical-align: top;\n",
              "    }\n",
              "\n",
              "    .dataframe thead th {\n",
              "        text-align: right;\n",
              "    }\n",
              "</style>\n",
              "<table border=\"1\" class=\"dataframe\">\n",
              "  <thead>\n",
              "    <tr style=\"text-align: right;\">\n",
              "      <th></th>\n",
              "      <th>Limit_bal</th>\n",
              "      <th>Repayment_September</th>\n",
              "      <th>Repayment_August</th>\n",
              "      <th>Repayment_July</th>\n",
              "      <th>Repayment_June</th>\n",
              "      <th>Repayment_May</th>\n",
              "      <th>Repayment_April</th>\n",
              "      <th>Sep_Bill</th>\n",
              "      <th>Aug_Bill</th>\n",
              "      <th>July_Bill</th>\n",
              "      <th>June_Bill</th>\n",
              "      <th>May_Bill</th>\n",
              "      <th>Apr_Bill</th>\n",
              "      <th>Pay_Sep</th>\n",
              "      <th>Pay_Aug</th>\n",
              "      <th>Pay_July</th>\n",
              "      <th>Pay_June</th>\n",
              "      <th>Pay_May</th>\n",
              "      <th>Pay_April</th>\n",
              "      <th>Defaulter</th>\n",
              "    </tr>\n",
              "  </thead>\n",
              "  <tbody>\n",
              "    <tr>\n",
              "      <th>count</th>\n",
              "      <td>29965.000000</td>\n",
              "      <td>29965.000000</td>\n",
              "      <td>29965.000000</td>\n",
              "      <td>29965.000000</td>\n",
              "      <td>29965.000000</td>\n",
              "      <td>29965.000000</td>\n",
              "      <td>29965.000000</td>\n",
              "      <td>29965.000000</td>\n",
              "      <td>29965.000000</td>\n",
              "      <td>2.996500e+04</td>\n",
              "      <td>29965.000000</td>\n",
              "      <td>29965.000000</td>\n",
              "      <td>29965.000000</td>\n",
              "      <td>29965.000000</td>\n",
              "      <td>2.996500e+04</td>\n",
              "      <td>29965.000000</td>\n",
              "      <td>29965.000000</td>\n",
              "      <td>29965.000000</td>\n",
              "      <td>29965.000000</td>\n",
              "      <td>29965.000000</td>\n",
              "    </tr>\n",
              "    <tr>\n",
              "      <th>mean</th>\n",
              "      <td>166765.549141</td>\n",
              "      <td>0.346671</td>\n",
              "      <td>0.311330</td>\n",
              "      <td>0.293976</td>\n",
              "      <td>0.245753</td>\n",
              "      <td>0.209411</td>\n",
              "      <td>0.215852</td>\n",
              "      <td>51283.009778</td>\n",
              "      <td>49236.366294</td>\n",
              "      <td>4.706792e+04</td>\n",
              "      <td>43313.329885</td>\n",
              "      <td>40358.334390</td>\n",
              "      <td>38917.012281</td>\n",
              "      <td>5670.099316</td>\n",
              "      <td>5.927983e+03</td>\n",
              "      <td>5231.688837</td>\n",
              "      <td>4831.617454</td>\n",
              "      <td>4804.897047</td>\n",
              "      <td>5221.498014</td>\n",
              "      <td>0.221258</td>\n",
              "    </tr>\n",
              "    <tr>\n",
              "      <th>std</th>\n",
              "      <td>127594.383724</td>\n",
              "      <td>0.705093</td>\n",
              "      <td>0.757083</td>\n",
              "      <td>0.735092</td>\n",
              "      <td>0.682570</td>\n",
              "      <td>0.639627</td>\n",
              "      <td>0.645261</td>\n",
              "      <td>73658.132403</td>\n",
              "      <td>71195.567392</td>\n",
              "      <td>6.937135e+04</td>\n",
              "      <td>64353.514373</td>\n",
              "      <td>60817.130623</td>\n",
              "      <td>59574.147742</td>\n",
              "      <td>16571.849467</td>\n",
              "      <td>2.305346e+04</td>\n",
              "      <td>17616.361124</td>\n",
              "      <td>15674.464538</td>\n",
              "      <td>15286.372298</td>\n",
              "      <td>17786.976864</td>\n",
              "      <td>0.415101</td>\n",
              "    </tr>\n",
              "    <tr>\n",
              "      <th>min</th>\n",
              "      <td>10000.000000</td>\n",
              "      <td>0.000000</td>\n",
              "      <td>0.000000</td>\n",
              "      <td>0.000000</td>\n",
              "      <td>0.000000</td>\n",
              "      <td>0.000000</td>\n",
              "      <td>0.000000</td>\n",
              "      <td>-165580.000000</td>\n",
              "      <td>-69777.000000</td>\n",
              "      <td>-1.572640e+05</td>\n",
              "      <td>-170000.000000</td>\n",
              "      <td>-81334.000000</td>\n",
              "      <td>-339603.000000</td>\n",
              "      <td>0.000000</td>\n",
              "      <td>0.000000e+00</td>\n",
              "      <td>0.000000</td>\n",
              "      <td>0.000000</td>\n",
              "      <td>0.000000</td>\n",
              "      <td>0.000000</td>\n",
              "      <td>0.000000</td>\n",
              "    </tr>\n",
              "    <tr>\n",
              "      <th>25%</th>\n",
              "      <td>50000.000000</td>\n",
              "      <td>0.000000</td>\n",
              "      <td>0.000000</td>\n",
              "      <td>0.000000</td>\n",
              "      <td>0.000000</td>\n",
              "      <td>0.000000</td>\n",
              "      <td>0.000000</td>\n",
              "      <td>3595.000000</td>\n",
              "      <td>3010.000000</td>\n",
              "      <td>2.711000e+03</td>\n",
              "      <td>2360.000000</td>\n",
              "      <td>1787.000000</td>\n",
              "      <td>1262.000000</td>\n",
              "      <td>1000.000000</td>\n",
              "      <td>8.500000e+02</td>\n",
              "      <td>390.000000</td>\n",
              "      <td>300.000000</td>\n",
              "      <td>261.000000</td>\n",
              "      <td>131.000000</td>\n",
              "      <td>0.000000</td>\n",
              "    </tr>\n",
              "    <tr>\n",
              "      <th>50%</th>\n",
              "      <td>140000.000000</td>\n",
              "      <td>0.000000</td>\n",
              "      <td>0.000000</td>\n",
              "      <td>0.000000</td>\n",
              "      <td>0.000000</td>\n",
              "      <td>0.000000</td>\n",
              "      <td>0.000000</td>\n",
              "      <td>22438.000000</td>\n",
              "      <td>21295.000000</td>\n",
              "      <td>2.013500e+04</td>\n",
              "      <td>19081.000000</td>\n",
              "      <td>18130.000000</td>\n",
              "      <td>17124.000000</td>\n",
              "      <td>2102.000000</td>\n",
              "      <td>2.010000e+03</td>\n",
              "      <td>1804.000000</td>\n",
              "      <td>1500.000000</td>\n",
              "      <td>1500.000000</td>\n",
              "      <td>1500.000000</td>\n",
              "      <td>0.000000</td>\n",
              "    </tr>\n",
              "    <tr>\n",
              "      <th>75%</th>\n",
              "      <td>240000.000000</td>\n",
              "      <td>0.000000</td>\n",
              "      <td>0.000000</td>\n",
              "      <td>0.000000</td>\n",
              "      <td>0.000000</td>\n",
              "      <td>0.000000</td>\n",
              "      <td>0.000000</td>\n",
              "      <td>67260.000000</td>\n",
              "      <td>64109.000000</td>\n",
              "      <td>6.020100e+04</td>\n",
              "      <td>54601.000000</td>\n",
              "      <td>50247.000000</td>\n",
              "      <td>49252.000000</td>\n",
              "      <td>5008.000000</td>\n",
              "      <td>5.000000e+03</td>\n",
              "      <td>4512.000000</td>\n",
              "      <td>4016.000000</td>\n",
              "      <td>4042.000000</td>\n",
              "      <td>4000.000000</td>\n",
              "      <td>0.000000</td>\n",
              "    </tr>\n",
              "    <tr>\n",
              "      <th>max</th>\n",
              "      <td>500000.000000</td>\n",
              "      <td>3.000000</td>\n",
              "      <td>3.000000</td>\n",
              "      <td>3.000000</td>\n",
              "      <td>3.000000</td>\n",
              "      <td>3.000000</td>\n",
              "      <td>3.000000</td>\n",
              "      <td>964511.000000</td>\n",
              "      <td>983931.000000</td>\n",
              "      <td>1.664089e+06</td>\n",
              "      <td>891586.000000</td>\n",
              "      <td>927171.000000</td>\n",
              "      <td>961664.000000</td>\n",
              "      <td>873552.000000</td>\n",
              "      <td>1.684259e+06</td>\n",
              "      <td>896040.000000</td>\n",
              "      <td>621000.000000</td>\n",
              "      <td>426529.000000</td>\n",
              "      <td>528666.000000</td>\n",
              "      <td>1.000000</td>\n",
              "    </tr>\n",
              "  </tbody>\n",
              "</table>\n",
              "</div>"
            ],
            "text/plain": [
              "           Limit_bal  Repayment_September  ...      Pay_April     Defaulter\n",
              "count   29965.000000         29965.000000  ...   29965.000000  29965.000000\n",
              "mean   166765.549141             0.346671  ...    5221.498014      0.221258\n",
              "std    127594.383724             0.705093  ...   17786.976864      0.415101\n",
              "min     10000.000000             0.000000  ...       0.000000      0.000000\n",
              "25%     50000.000000             0.000000  ...     131.000000      0.000000\n",
              "50%    140000.000000             0.000000  ...    1500.000000      0.000000\n",
              "75%    240000.000000             0.000000  ...    4000.000000      0.000000\n",
              "max    500000.000000             3.000000  ...  528666.000000      1.000000\n",
              "\n",
              "[8 rows x 20 columns]"
            ]
          },
          "metadata": {},
          "execution_count": 537
        }
      ]
    },
    {
      "cell_type": "code",
      "metadata": {
        "colab": {
          "base_uri": "https://localhost:8080/",
          "height": 241
        },
        "id": "KyGDR87YwTdb",
        "outputId": "2c36b969-b270-409e-d3dd-1b0bef4ba322"
      },
      "source": [
        "new_df.head()"
      ],
      "execution_count": null,
      "outputs": [
        {
          "output_type": "execute_result",
          "data": {
            "text/html": [
              "<div>\n",
              "<style scoped>\n",
              "    .dataframe tbody tr th:only-of-type {\n",
              "        vertical-align: middle;\n",
              "    }\n",
              "\n",
              "    .dataframe tbody tr th {\n",
              "        vertical-align: top;\n",
              "    }\n",
              "\n",
              "    .dataframe thead th {\n",
              "        text-align: right;\n",
              "    }\n",
              "</style>\n",
              "<table border=\"1\" class=\"dataframe\">\n",
              "  <thead>\n",
              "    <tr style=\"text-align: right;\">\n",
              "      <th></th>\n",
              "      <th>Limit_bal</th>\n",
              "      <th>Repayment_September</th>\n",
              "      <th>Repayment_August</th>\n",
              "      <th>Repayment_July</th>\n",
              "      <th>Repayment_June</th>\n",
              "      <th>Repayment_May</th>\n",
              "      <th>Repayment_April</th>\n",
              "      <th>Sep_Bill</th>\n",
              "      <th>Aug_Bill</th>\n",
              "      <th>July_Bill</th>\n",
              "      <th>June_Bill</th>\n",
              "      <th>May_Bill</th>\n",
              "      <th>Apr_Bill</th>\n",
              "      <th>Pay_Sep</th>\n",
              "      <th>Pay_Aug</th>\n",
              "      <th>Pay_July</th>\n",
              "      <th>Pay_June</th>\n",
              "      <th>Pay_May</th>\n",
              "      <th>Pay_April</th>\n",
              "      <th>Defaulter</th>\n",
              "      <th>Gender_Male</th>\n",
              "      <th>Education_high school</th>\n",
              "      <th>Education_others</th>\n",
              "      <th>Education_university</th>\n",
              "      <th>Marital_status_others</th>\n",
              "      <th>Marital_status_single</th>\n",
              "      <th>Age_Group_31-40</th>\n",
              "      <th>Age_Group_41-50</th>\n",
              "      <th>Age_Group_51-60</th>\n",
              "      <th>Age_Group_60+</th>\n",
              "    </tr>\n",
              "  </thead>\n",
              "  <tbody>\n",
              "    <tr>\n",
              "      <th>0</th>\n",
              "      <td>20000</td>\n",
              "      <td>2</td>\n",
              "      <td>2</td>\n",
              "      <td>0</td>\n",
              "      <td>0</td>\n",
              "      <td>0</td>\n",
              "      <td>0</td>\n",
              "      <td>3913</td>\n",
              "      <td>3102</td>\n",
              "      <td>689</td>\n",
              "      <td>0</td>\n",
              "      <td>0</td>\n",
              "      <td>0</td>\n",
              "      <td>0</td>\n",
              "      <td>689</td>\n",
              "      <td>0</td>\n",
              "      <td>0</td>\n",
              "      <td>0</td>\n",
              "      <td>0</td>\n",
              "      <td>1</td>\n",
              "      <td>0</td>\n",
              "      <td>0</td>\n",
              "      <td>0</td>\n",
              "      <td>1</td>\n",
              "      <td>0</td>\n",
              "      <td>0</td>\n",
              "      <td>0</td>\n",
              "      <td>0</td>\n",
              "      <td>0</td>\n",
              "      <td>0</td>\n",
              "    </tr>\n",
              "    <tr>\n",
              "      <th>1</th>\n",
              "      <td>120000</td>\n",
              "      <td>0</td>\n",
              "      <td>2</td>\n",
              "      <td>0</td>\n",
              "      <td>0</td>\n",
              "      <td>0</td>\n",
              "      <td>2</td>\n",
              "      <td>2682</td>\n",
              "      <td>1725</td>\n",
              "      <td>2682</td>\n",
              "      <td>3272</td>\n",
              "      <td>3455</td>\n",
              "      <td>3261</td>\n",
              "      <td>0</td>\n",
              "      <td>1000</td>\n",
              "      <td>1000</td>\n",
              "      <td>1000</td>\n",
              "      <td>0</td>\n",
              "      <td>2000</td>\n",
              "      <td>1</td>\n",
              "      <td>0</td>\n",
              "      <td>0</td>\n",
              "      <td>0</td>\n",
              "      <td>1</td>\n",
              "      <td>0</td>\n",
              "      <td>1</td>\n",
              "      <td>0</td>\n",
              "      <td>0</td>\n",
              "      <td>0</td>\n",
              "      <td>0</td>\n",
              "    </tr>\n",
              "    <tr>\n",
              "      <th>2</th>\n",
              "      <td>90000</td>\n",
              "      <td>0</td>\n",
              "      <td>0</td>\n",
              "      <td>0</td>\n",
              "      <td>0</td>\n",
              "      <td>0</td>\n",
              "      <td>0</td>\n",
              "      <td>29239</td>\n",
              "      <td>14027</td>\n",
              "      <td>13559</td>\n",
              "      <td>14331</td>\n",
              "      <td>14948</td>\n",
              "      <td>15549</td>\n",
              "      <td>1518</td>\n",
              "      <td>1500</td>\n",
              "      <td>1000</td>\n",
              "      <td>1000</td>\n",
              "      <td>1000</td>\n",
              "      <td>5000</td>\n",
              "      <td>0</td>\n",
              "      <td>0</td>\n",
              "      <td>0</td>\n",
              "      <td>0</td>\n",
              "      <td>1</td>\n",
              "      <td>0</td>\n",
              "      <td>1</td>\n",
              "      <td>1</td>\n",
              "      <td>0</td>\n",
              "      <td>0</td>\n",
              "      <td>0</td>\n",
              "    </tr>\n",
              "    <tr>\n",
              "      <th>3</th>\n",
              "      <td>50000</td>\n",
              "      <td>0</td>\n",
              "      <td>0</td>\n",
              "      <td>0</td>\n",
              "      <td>0</td>\n",
              "      <td>0</td>\n",
              "      <td>0</td>\n",
              "      <td>46990</td>\n",
              "      <td>48233</td>\n",
              "      <td>49291</td>\n",
              "      <td>28314</td>\n",
              "      <td>28959</td>\n",
              "      <td>29547</td>\n",
              "      <td>2000</td>\n",
              "      <td>2019</td>\n",
              "      <td>1200</td>\n",
              "      <td>1100</td>\n",
              "      <td>1069</td>\n",
              "      <td>1000</td>\n",
              "      <td>0</td>\n",
              "      <td>0</td>\n",
              "      <td>0</td>\n",
              "      <td>0</td>\n",
              "      <td>1</td>\n",
              "      <td>0</td>\n",
              "      <td>0</td>\n",
              "      <td>1</td>\n",
              "      <td>0</td>\n",
              "      <td>0</td>\n",
              "      <td>0</td>\n",
              "    </tr>\n",
              "    <tr>\n",
              "      <th>4</th>\n",
              "      <td>50000</td>\n",
              "      <td>0</td>\n",
              "      <td>0</td>\n",
              "      <td>0</td>\n",
              "      <td>0</td>\n",
              "      <td>0</td>\n",
              "      <td>0</td>\n",
              "      <td>8617</td>\n",
              "      <td>5670</td>\n",
              "      <td>35835</td>\n",
              "      <td>20940</td>\n",
              "      <td>19146</td>\n",
              "      <td>19131</td>\n",
              "      <td>2000</td>\n",
              "      <td>36681</td>\n",
              "      <td>10000</td>\n",
              "      <td>9000</td>\n",
              "      <td>689</td>\n",
              "      <td>679</td>\n",
              "      <td>0</td>\n",
              "      <td>1</td>\n",
              "      <td>0</td>\n",
              "      <td>0</td>\n",
              "      <td>1</td>\n",
              "      <td>0</td>\n",
              "      <td>0</td>\n",
              "      <td>0</td>\n",
              "      <td>0</td>\n",
              "      <td>1</td>\n",
              "      <td>0</td>\n",
              "    </tr>\n",
              "  </tbody>\n",
              "</table>\n",
              "</div>"
            ],
            "text/plain": [
              "   Limit_bal  Repayment_September  ...  Age_Group_51-60  Age_Group_60+\n",
              "0      20000                    2  ...                0              0\n",
              "1     120000                    0  ...                0              0\n",
              "2      90000                    0  ...                0              0\n",
              "3      50000                    0  ...                0              0\n",
              "4      50000                    0  ...                1              0\n",
              "\n",
              "[5 rows x 30 columns]"
            ]
          },
          "metadata": {},
          "execution_count": 538
        }
      ]
    },
    {
      "cell_type": "code",
      "metadata": {
        "id": "PXYchiH1ZVXr"
      },
      "source": [
        "X =new_df.drop(columns=['Defaulter'])\n",
        "y =new_df['Defaulter']"
      ],
      "execution_count": null,
      "outputs": []
    },
    {
      "cell_type": "code",
      "metadata": {
        "colab": {
          "base_uri": "https://localhost:8080/"
        },
        "id": "mLS08y17WYuV",
        "outputId": "c22df431-e3a0-4d24-81b6-17d7251f5c02"
      },
      "source": [
        "#importing SMote to make our dataset balanced\n",
        "from imblearn.over_sampling import SMOTE\n",
        "\n",
        "smote = SMOTE()\n",
        "\n",
        "# fit predictor and target variable\n",
        "X_smote, y_smote = smote.fit_resample(X,y)\n",
        "\n",
        "print('Original dataset shape', len(df))\n",
        "print('Resampled dataset shape', len(y_smote))"
      ],
      "execution_count": null,
      "outputs": [
        {
          "output_type": "stream",
          "name": "stderr",
          "text": [
            "/usr/local/lib/python3.7/dist-packages/sklearn/utils/deprecation.py:87: FutureWarning: Function safe_indexing is deprecated; safe_indexing is deprecated in version 0.22 and will be removed in version 0.24.\n",
            "  warnings.warn(msg, category=FutureWarning)\n"
          ]
        },
        {
          "output_type": "stream",
          "name": "stdout",
          "text": [
            "Original dataset shape 29965\n",
            "Resampled dataset shape 46670\n"
          ]
        }
      ]
    },
    {
      "cell_type": "code",
      "metadata": {
        "id": "IWt-5Ov4y9qC"
      },
      "source": [
        "from sklearn.model_selection import train_test_split"
      ],
      "execution_count": null,
      "outputs": []
    }
  ]
}